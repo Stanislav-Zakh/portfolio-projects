{
  "nbformat": 4,
  "nbformat_minor": 0,
  "metadata": {
    "colab": {
      "provenance": [],
      "authorship_tag": "ABX9TyPfpmJCOkOUD1lVtymWKqa1"
    },
    "kernelspec": {
      "name": "python3",
      "display_name": "Python 3"
    },
    "language_info": {
      "name": "python"
    }
  },
  "cells": [
    {
      "cell_type": "markdown",
      "source": [
        "# Breast Cancer classification\n",
        "\n",
        "**Task:** Predict whether the cancer is **B**enign or **M**alignant\n",
        "\n",
        "**Dataset:**\n",
        "\n",
        "  * **Name:** Breast Cancer Wisconsin (Diagnostic) Data Set\n",
        "  * **Website:** *Kaggle*\n",
        "  * **Where to find data:** https://www.kaggle.com/datasets/uciml/breast-cancer-wisconsin-data\n"
      ],
      "metadata": {
        "id": "dU9tbwn1-Rh_"
      }
    },
    {
      "cell_type": "code",
      "source": [
        "import sklearn\n",
        "import tensorflow as tf\n",
        "import pandas as pd\n",
        "import numpy as np\n",
        "import matplotlib.pyplot as plt"
      ],
      "metadata": {
        "id": "jAakgvopEKxj"
      },
      "execution_count": null,
      "outputs": []
    },
    {
      "cell_type": "code",
      "source": [
        "# Open zipfile (you will have to download data from kaggle)\n",
        "import zipfile\n",
        "\n",
        "with zipfile.ZipFile('archive (6).zip', 'r') as zip_ref:\n",
        "    zip_ref.extractall()"
      ],
      "metadata": {
        "id": "eUBZ7LcC_fvU"
      },
      "execution_count": null,
      "outputs": []
    },
    {
      "cell_type": "code",
      "source": [
        "data_df = pd.read_csv('data.csv')\n",
        "\n",
        "data_df.head()"
      ],
      "metadata": {
        "colab": {
          "base_uri": "https://localhost:8080/",
          "height": 317
        },
        "id": "x2JIDnSv_jk8",
        "outputId": "92179a02-e73a-418b-fa17-3eb27050aeef"
      },
      "execution_count": null,
      "outputs": [
        {
          "output_type": "execute_result",
          "data": {
            "text/plain": [
              "         id diagnosis  radius_mean  texture_mean  perimeter_mean  area_mean  \\\n",
              "0    842302         M        17.99         10.38          122.80     1001.0   \n",
              "1    842517         M        20.57         17.77          132.90     1326.0   \n",
              "2  84300903         M        19.69         21.25          130.00     1203.0   \n",
              "3  84348301         M        11.42         20.38           77.58      386.1   \n",
              "4  84358402         M        20.29         14.34          135.10     1297.0   \n",
              "\n",
              "   smoothness_mean  compactness_mean  concavity_mean  concave points_mean  \\\n",
              "0          0.11840           0.27760          0.3001              0.14710   \n",
              "1          0.08474           0.07864          0.0869              0.07017   \n",
              "2          0.10960           0.15990          0.1974              0.12790   \n",
              "3          0.14250           0.28390          0.2414              0.10520   \n",
              "4          0.10030           0.13280          0.1980              0.10430   \n",
              "\n",
              "   ...  texture_worst  perimeter_worst  area_worst  smoothness_worst  \\\n",
              "0  ...          17.33           184.60      2019.0            0.1622   \n",
              "1  ...          23.41           158.80      1956.0            0.1238   \n",
              "2  ...          25.53           152.50      1709.0            0.1444   \n",
              "3  ...          26.50            98.87       567.7            0.2098   \n",
              "4  ...          16.67           152.20      1575.0            0.1374   \n",
              "\n",
              "   compactness_worst  concavity_worst  concave points_worst  symmetry_worst  \\\n",
              "0             0.6656           0.7119                0.2654          0.4601   \n",
              "1             0.1866           0.2416                0.1860          0.2750   \n",
              "2             0.4245           0.4504                0.2430          0.3613   \n",
              "3             0.8663           0.6869                0.2575          0.6638   \n",
              "4             0.2050           0.4000                0.1625          0.2364   \n",
              "\n",
              "   fractal_dimension_worst  Unnamed: 32  \n",
              "0                  0.11890          NaN  \n",
              "1                  0.08902          NaN  \n",
              "2                  0.08758          NaN  \n",
              "3                  0.17300          NaN  \n",
              "4                  0.07678          NaN  \n",
              "\n",
              "[5 rows x 33 columns]"
            ],
            "text/html": [
              "\n",
              "\n",
              "  <div id=\"df-a07c1381-8cd0-4b96-a8aa-f389b244d796\">\n",
              "    <div class=\"colab-df-container\">\n",
              "      <div>\n",
              "<style scoped>\n",
              "    .dataframe tbody tr th:only-of-type {\n",
              "        vertical-align: middle;\n",
              "    }\n",
              "\n",
              "    .dataframe tbody tr th {\n",
              "        vertical-align: top;\n",
              "    }\n",
              "\n",
              "    .dataframe thead th {\n",
              "        text-align: right;\n",
              "    }\n",
              "</style>\n",
              "<table border=\"1\" class=\"dataframe\">\n",
              "  <thead>\n",
              "    <tr style=\"text-align: right;\">\n",
              "      <th></th>\n",
              "      <th>id</th>\n",
              "      <th>diagnosis</th>\n",
              "      <th>radius_mean</th>\n",
              "      <th>texture_mean</th>\n",
              "      <th>perimeter_mean</th>\n",
              "      <th>area_mean</th>\n",
              "      <th>smoothness_mean</th>\n",
              "      <th>compactness_mean</th>\n",
              "      <th>concavity_mean</th>\n",
              "      <th>concave points_mean</th>\n",
              "      <th>...</th>\n",
              "      <th>texture_worst</th>\n",
              "      <th>perimeter_worst</th>\n",
              "      <th>area_worst</th>\n",
              "      <th>smoothness_worst</th>\n",
              "      <th>compactness_worst</th>\n",
              "      <th>concavity_worst</th>\n",
              "      <th>concave points_worst</th>\n",
              "      <th>symmetry_worst</th>\n",
              "      <th>fractal_dimension_worst</th>\n",
              "      <th>Unnamed: 32</th>\n",
              "    </tr>\n",
              "  </thead>\n",
              "  <tbody>\n",
              "    <tr>\n",
              "      <th>0</th>\n",
              "      <td>842302</td>\n",
              "      <td>M</td>\n",
              "      <td>17.99</td>\n",
              "      <td>10.38</td>\n",
              "      <td>122.80</td>\n",
              "      <td>1001.0</td>\n",
              "      <td>0.11840</td>\n",
              "      <td>0.27760</td>\n",
              "      <td>0.3001</td>\n",
              "      <td>0.14710</td>\n",
              "      <td>...</td>\n",
              "      <td>17.33</td>\n",
              "      <td>184.60</td>\n",
              "      <td>2019.0</td>\n",
              "      <td>0.1622</td>\n",
              "      <td>0.6656</td>\n",
              "      <td>0.7119</td>\n",
              "      <td>0.2654</td>\n",
              "      <td>0.4601</td>\n",
              "      <td>0.11890</td>\n",
              "      <td>NaN</td>\n",
              "    </tr>\n",
              "    <tr>\n",
              "      <th>1</th>\n",
              "      <td>842517</td>\n",
              "      <td>M</td>\n",
              "      <td>20.57</td>\n",
              "      <td>17.77</td>\n",
              "      <td>132.90</td>\n",
              "      <td>1326.0</td>\n",
              "      <td>0.08474</td>\n",
              "      <td>0.07864</td>\n",
              "      <td>0.0869</td>\n",
              "      <td>0.07017</td>\n",
              "      <td>...</td>\n",
              "      <td>23.41</td>\n",
              "      <td>158.80</td>\n",
              "      <td>1956.0</td>\n",
              "      <td>0.1238</td>\n",
              "      <td>0.1866</td>\n",
              "      <td>0.2416</td>\n",
              "      <td>0.1860</td>\n",
              "      <td>0.2750</td>\n",
              "      <td>0.08902</td>\n",
              "      <td>NaN</td>\n",
              "    </tr>\n",
              "    <tr>\n",
              "      <th>2</th>\n",
              "      <td>84300903</td>\n",
              "      <td>M</td>\n",
              "      <td>19.69</td>\n",
              "      <td>21.25</td>\n",
              "      <td>130.00</td>\n",
              "      <td>1203.0</td>\n",
              "      <td>0.10960</td>\n",
              "      <td>0.15990</td>\n",
              "      <td>0.1974</td>\n",
              "      <td>0.12790</td>\n",
              "      <td>...</td>\n",
              "      <td>25.53</td>\n",
              "      <td>152.50</td>\n",
              "      <td>1709.0</td>\n",
              "      <td>0.1444</td>\n",
              "      <td>0.4245</td>\n",
              "      <td>0.4504</td>\n",
              "      <td>0.2430</td>\n",
              "      <td>0.3613</td>\n",
              "      <td>0.08758</td>\n",
              "      <td>NaN</td>\n",
              "    </tr>\n",
              "    <tr>\n",
              "      <th>3</th>\n",
              "      <td>84348301</td>\n",
              "      <td>M</td>\n",
              "      <td>11.42</td>\n",
              "      <td>20.38</td>\n",
              "      <td>77.58</td>\n",
              "      <td>386.1</td>\n",
              "      <td>0.14250</td>\n",
              "      <td>0.28390</td>\n",
              "      <td>0.2414</td>\n",
              "      <td>0.10520</td>\n",
              "      <td>...</td>\n",
              "      <td>26.50</td>\n",
              "      <td>98.87</td>\n",
              "      <td>567.7</td>\n",
              "      <td>0.2098</td>\n",
              "      <td>0.8663</td>\n",
              "      <td>0.6869</td>\n",
              "      <td>0.2575</td>\n",
              "      <td>0.6638</td>\n",
              "      <td>0.17300</td>\n",
              "      <td>NaN</td>\n",
              "    </tr>\n",
              "    <tr>\n",
              "      <th>4</th>\n",
              "      <td>84358402</td>\n",
              "      <td>M</td>\n",
              "      <td>20.29</td>\n",
              "      <td>14.34</td>\n",
              "      <td>135.10</td>\n",
              "      <td>1297.0</td>\n",
              "      <td>0.10030</td>\n",
              "      <td>0.13280</td>\n",
              "      <td>0.1980</td>\n",
              "      <td>0.10430</td>\n",
              "      <td>...</td>\n",
              "      <td>16.67</td>\n",
              "      <td>152.20</td>\n",
              "      <td>1575.0</td>\n",
              "      <td>0.1374</td>\n",
              "      <td>0.2050</td>\n",
              "      <td>0.4000</td>\n",
              "      <td>0.1625</td>\n",
              "      <td>0.2364</td>\n",
              "      <td>0.07678</td>\n",
              "      <td>NaN</td>\n",
              "    </tr>\n",
              "  </tbody>\n",
              "</table>\n",
              "<p>5 rows × 33 columns</p>\n",
              "</div>\n",
              "      <button class=\"colab-df-convert\" onclick=\"convertToInteractive('df-a07c1381-8cd0-4b96-a8aa-f389b244d796')\"\n",
              "              title=\"Convert this dataframe to an interactive table.\"\n",
              "              style=\"display:none;\">\n",
              "\n",
              "  <svg xmlns=\"http://www.w3.org/2000/svg\" height=\"24px\"viewBox=\"0 0 24 24\"\n",
              "       width=\"24px\">\n",
              "    <path d=\"M0 0h24v24H0V0z\" fill=\"none\"/>\n",
              "    <path d=\"M18.56 5.44l.94 2.06.94-2.06 2.06-.94-2.06-.94-.94-2.06-.94 2.06-2.06.94zm-11 1L8.5 8.5l.94-2.06 2.06-.94-2.06-.94L8.5 2.5l-.94 2.06-2.06.94zm10 10l.94 2.06.94-2.06 2.06-.94-2.06-.94-.94-2.06-.94 2.06-2.06.94z\"/><path d=\"M17.41 7.96l-1.37-1.37c-.4-.4-.92-.59-1.43-.59-.52 0-1.04.2-1.43.59L10.3 9.45l-7.72 7.72c-.78.78-.78 2.05 0 2.83L4 21.41c.39.39.9.59 1.41.59.51 0 1.02-.2 1.41-.59l7.78-7.78 2.81-2.81c.8-.78.8-2.07 0-2.86zM5.41 20L4 18.59l7.72-7.72 1.47 1.35L5.41 20z\"/>\n",
              "  </svg>\n",
              "      </button>\n",
              "\n",
              "\n",
              "\n",
              "    <div id=\"df-bdba86b8-a04e-430a-86b2-834db4255e75\">\n",
              "      <button class=\"colab-df-quickchart\" onclick=\"quickchart('df-bdba86b8-a04e-430a-86b2-834db4255e75')\"\n",
              "              title=\"Suggest charts.\"\n",
              "              style=\"display:none;\">\n",
              "\n",
              "<svg xmlns=\"http://www.w3.org/2000/svg\" height=\"24px\"viewBox=\"0 0 24 24\"\n",
              "     width=\"24px\">\n",
              "    <g>\n",
              "        <path d=\"M19 3H5c-1.1 0-2 .9-2 2v14c0 1.1.9 2 2 2h14c1.1 0 2-.9 2-2V5c0-1.1-.9-2-2-2zM9 17H7v-7h2v7zm4 0h-2V7h2v10zm4 0h-2v-4h2v4z\"/>\n",
              "    </g>\n",
              "</svg>\n",
              "      </button>\n",
              "    </div>\n",
              "\n",
              "<style>\n",
              "  .colab-df-quickchart {\n",
              "    background-color: #E8F0FE;\n",
              "    border: none;\n",
              "    border-radius: 50%;\n",
              "    cursor: pointer;\n",
              "    display: none;\n",
              "    fill: #1967D2;\n",
              "    height: 32px;\n",
              "    padding: 0 0 0 0;\n",
              "    width: 32px;\n",
              "  }\n",
              "\n",
              "  .colab-df-quickchart:hover {\n",
              "    background-color: #E2EBFA;\n",
              "    box-shadow: 0px 1px 2px rgba(60, 64, 67, 0.3), 0px 1px 3px 1px rgba(60, 64, 67, 0.15);\n",
              "    fill: #174EA6;\n",
              "  }\n",
              "\n",
              "  [theme=dark] .colab-df-quickchart {\n",
              "    background-color: #3B4455;\n",
              "    fill: #D2E3FC;\n",
              "  }\n",
              "\n",
              "  [theme=dark] .colab-df-quickchart:hover {\n",
              "    background-color: #434B5C;\n",
              "    box-shadow: 0px 1px 3px 1px rgba(0, 0, 0, 0.15);\n",
              "    filter: drop-shadow(0px 1px 2px rgba(0, 0, 0, 0.3));\n",
              "    fill: #FFFFFF;\n",
              "  }\n",
              "</style>\n",
              "\n",
              "    <script>\n",
              "      async function quickchart(key) {\n",
              "        const containerElement = document.querySelector('#' + key);\n",
              "        const charts = await google.colab.kernel.invokeFunction(\n",
              "            'suggestCharts', [key], {});\n",
              "      }\n",
              "    </script>\n",
              "\n",
              "      <script>\n",
              "\n",
              "function displayQuickchartButton(domScope) {\n",
              "  let quickchartButtonEl =\n",
              "    domScope.querySelector('#df-bdba86b8-a04e-430a-86b2-834db4255e75 button.colab-df-quickchart');\n",
              "  quickchartButtonEl.style.display =\n",
              "    google.colab.kernel.accessAllowed ? 'block' : 'none';\n",
              "}\n",
              "\n",
              "        displayQuickchartButton(document);\n",
              "      </script>\n",
              "      <style>\n",
              "    .colab-df-container {\n",
              "      display:flex;\n",
              "      flex-wrap:wrap;\n",
              "      gap: 12px;\n",
              "    }\n",
              "\n",
              "    .colab-df-convert {\n",
              "      background-color: #E8F0FE;\n",
              "      border: none;\n",
              "      border-radius: 50%;\n",
              "      cursor: pointer;\n",
              "      display: none;\n",
              "      fill: #1967D2;\n",
              "      height: 32px;\n",
              "      padding: 0 0 0 0;\n",
              "      width: 32px;\n",
              "    }\n",
              "\n",
              "    .colab-df-convert:hover {\n",
              "      background-color: #E2EBFA;\n",
              "      box-shadow: 0px 1px 2px rgba(60, 64, 67, 0.3), 0px 1px 3px 1px rgba(60, 64, 67, 0.15);\n",
              "      fill: #174EA6;\n",
              "    }\n",
              "\n",
              "    [theme=dark] .colab-df-convert {\n",
              "      background-color: #3B4455;\n",
              "      fill: #D2E3FC;\n",
              "    }\n",
              "\n",
              "    [theme=dark] .colab-df-convert:hover {\n",
              "      background-color: #434B5C;\n",
              "      box-shadow: 0px 1px 3px 1px rgba(0, 0, 0, 0.15);\n",
              "      filter: drop-shadow(0px 1px 2px rgba(0, 0, 0, 0.3));\n",
              "      fill: #FFFFFF;\n",
              "    }\n",
              "  </style>\n",
              "\n",
              "      <script>\n",
              "        const buttonEl =\n",
              "          document.querySelector('#df-a07c1381-8cd0-4b96-a8aa-f389b244d796 button.colab-df-convert');\n",
              "        buttonEl.style.display =\n",
              "          google.colab.kernel.accessAllowed ? 'block' : 'none';\n",
              "\n",
              "        async function convertToInteractive(key) {\n",
              "          const element = document.querySelector('#df-a07c1381-8cd0-4b96-a8aa-f389b244d796');\n",
              "          const dataTable =\n",
              "            await google.colab.kernel.invokeFunction('convertToInteractive',\n",
              "                                                     [key], {});\n",
              "          if (!dataTable) return;\n",
              "\n",
              "          const docLinkHtml = 'Like what you see? Visit the ' +\n",
              "            '<a target=\"_blank\" href=https://colab.research.google.com/notebooks/data_table.ipynb>data table notebook</a>'\n",
              "            + ' to learn more about interactive tables.';\n",
              "          element.innerHTML = '';\n",
              "          dataTable['output_type'] = 'display_data';\n",
              "          await google.colab.output.renderOutput(dataTable, element);\n",
              "          const docLink = document.createElement('div');\n",
              "          docLink.innerHTML = docLinkHtml;\n",
              "          element.appendChild(docLink);\n",
              "        }\n",
              "      </script>\n",
              "    </div>\n",
              "  </div>\n"
            ]
          },
          "metadata": {},
          "execution_count": 3
        }
      ]
    },
    {
      "cell_type": "code",
      "source": [
        "# get the length of the DataFrame\n",
        "len(data_df)"
      ],
      "metadata": {
        "colab": {
          "base_uri": "https://localhost:8080/"
        },
        "id": "R9ylxjMKAI7I",
        "outputId": "a16bd07e-4089-4d46-b44c-b0146a4fbe96"
      },
      "execution_count": null,
      "outputs": [
        {
          "output_type": "execute_result",
          "data": {
            "text/plain": [
              "569"
            ]
          },
          "metadata": {},
          "execution_count": 4
        }
      ]
    },
    {
      "cell_type": "markdown",
      "source": [
        "## Visualize data\n",
        "\n",
        "Diagnosis:\n",
        "\n",
        "B - benign\n",
        "M - Malignant"
      ],
      "metadata": {
        "id": "HuFh8RtEALcj"
      }
    },
    {
      "cell_type": "code",
      "source": [
        "# Check for the class distibution\n",
        "data_df['diagnosis'].value_counts()"
      ],
      "metadata": {
        "colab": {
          "base_uri": "https://localhost:8080/"
        },
        "id": "adga9Qu-AQPD",
        "outputId": "6aae7341-b201-4fc5-865e-c5b0501c941b"
      },
      "execution_count": null,
      "outputs": [
        {
          "output_type": "execute_result",
          "data": {
            "text/plain": [
              "B    357\n",
              "M    212\n",
              "Name: diagnosis, dtype: int64"
            ]
          },
          "metadata": {},
          "execution_count": 5
        }
      ]
    },
    {
      "cell_type": "code",
      "source": [
        "# get class names\n",
        "class_names = list(data_df['diagnosis'].unique())\n",
        "\n",
        "class_names"
      ],
      "metadata": {
        "colab": {
          "base_uri": "https://localhost:8080/"
        },
        "id": "HLzA2IgTAWe_",
        "outputId": "2feee844-31f2-4d0a-f82a-8768635a6b4b"
      },
      "execution_count": null,
      "outputs": [
        {
          "output_type": "execute_result",
          "data": {
            "text/plain": [
              "['M', 'B']"
            ]
          },
          "metadata": {},
          "execution_count": 6
        }
      ]
    },
    {
      "cell_type": "code",
      "source": [
        "# search for NAN values\n",
        "data_df.isna().sum()"
      ],
      "metadata": {
        "colab": {
          "base_uri": "https://localhost:8080/"
        },
        "id": "SGbXp4qLAYu_",
        "outputId": "c440b923-2d94-442d-82b7-3cce9ddfb331"
      },
      "execution_count": null,
      "outputs": [
        {
          "output_type": "execute_result",
          "data": {
            "text/plain": [
              "id                           0\n",
              "diagnosis                    0\n",
              "radius_mean                  0\n",
              "texture_mean                 0\n",
              "perimeter_mean               0\n",
              "area_mean                    0\n",
              "smoothness_mean              0\n",
              "compactness_mean             0\n",
              "concavity_mean               0\n",
              "concave points_mean          0\n",
              "symmetry_mean                0\n",
              "fractal_dimension_mean       0\n",
              "radius_se                    0\n",
              "texture_se                   0\n",
              "perimeter_se                 0\n",
              "area_se                      0\n",
              "smoothness_se                0\n",
              "compactness_se               0\n",
              "concavity_se                 0\n",
              "concave points_se            0\n",
              "symmetry_se                  0\n",
              "fractal_dimension_se         0\n",
              "radius_worst                 0\n",
              "texture_worst                0\n",
              "perimeter_worst              0\n",
              "area_worst                   0\n",
              "smoothness_worst             0\n",
              "compactness_worst            0\n",
              "concavity_worst              0\n",
              "concave points_worst         0\n",
              "symmetry_worst               0\n",
              "fractal_dimension_worst      0\n",
              "Unnamed: 32                569\n",
              "dtype: int64"
            ]
          },
          "metadata": {},
          "execution_count": 7
        }
      ]
    },
    {
      "cell_type": "markdown",
      "source": [
        "## Preprocess data"
      ],
      "metadata": {
        "id": "a8xYXGGjAbWw"
      }
    },
    {
      "cell_type": "code",
      "source": [
        "from sklearn.model_selection import train_test_split"
      ],
      "metadata": {
        "id": "JdCi4Cb4Atsj"
      },
      "execution_count": null,
      "outputs": []
    },
    {
      "cell_type": "markdown",
      "source": [
        "### Clean and split data"
      ],
      "metadata": {
        "id": "HnCzjAoQAfwd"
      }
    },
    {
      "cell_type": "code",
      "source": [
        "data_df_clean = data_df.drop(['id', 'Unnamed: 32'], axis=1)\n",
        "\n",
        "data_df_clean.head(1)"
      ],
      "metadata": {
        "colab": {
          "base_uri": "https://localhost:8080/",
          "height": 191
        },
        "id": "WYEHTuNdAkGN",
        "outputId": "2a9ae25c-1bca-4866-f9fd-df5c013e3a2e"
      },
      "execution_count": null,
      "outputs": [
        {
          "output_type": "execute_result",
          "data": {
            "text/plain": [
              "  diagnosis  radius_mean  texture_mean  perimeter_mean  area_mean  \\\n",
              "0         M        17.99         10.38           122.8     1001.0   \n",
              "\n",
              "   smoothness_mean  compactness_mean  concavity_mean  concave points_mean  \\\n",
              "0           0.1184            0.2776          0.3001               0.1471   \n",
              "\n",
              "   symmetry_mean  ...  radius_worst  texture_worst  perimeter_worst  \\\n",
              "0         0.2419  ...         25.38          17.33            184.6   \n",
              "\n",
              "   area_worst  smoothness_worst  compactness_worst  concavity_worst  \\\n",
              "0      2019.0            0.1622             0.6656           0.7119   \n",
              "\n",
              "   concave points_worst  symmetry_worst  fractal_dimension_worst  \n",
              "0                0.2654          0.4601                   0.1189  \n",
              "\n",
              "[1 rows x 31 columns]"
            ],
            "text/html": [
              "\n",
              "\n",
              "  <div id=\"df-8add2821-d796-493d-83de-664d1e9a65eb\">\n",
              "    <div class=\"colab-df-container\">\n",
              "      <div>\n",
              "<style scoped>\n",
              "    .dataframe tbody tr th:only-of-type {\n",
              "        vertical-align: middle;\n",
              "    }\n",
              "\n",
              "    .dataframe tbody tr th {\n",
              "        vertical-align: top;\n",
              "    }\n",
              "\n",
              "    .dataframe thead th {\n",
              "        text-align: right;\n",
              "    }\n",
              "</style>\n",
              "<table border=\"1\" class=\"dataframe\">\n",
              "  <thead>\n",
              "    <tr style=\"text-align: right;\">\n",
              "      <th></th>\n",
              "      <th>diagnosis</th>\n",
              "      <th>radius_mean</th>\n",
              "      <th>texture_mean</th>\n",
              "      <th>perimeter_mean</th>\n",
              "      <th>area_mean</th>\n",
              "      <th>smoothness_mean</th>\n",
              "      <th>compactness_mean</th>\n",
              "      <th>concavity_mean</th>\n",
              "      <th>concave points_mean</th>\n",
              "      <th>symmetry_mean</th>\n",
              "      <th>...</th>\n",
              "      <th>radius_worst</th>\n",
              "      <th>texture_worst</th>\n",
              "      <th>perimeter_worst</th>\n",
              "      <th>area_worst</th>\n",
              "      <th>smoothness_worst</th>\n",
              "      <th>compactness_worst</th>\n",
              "      <th>concavity_worst</th>\n",
              "      <th>concave points_worst</th>\n",
              "      <th>symmetry_worst</th>\n",
              "      <th>fractal_dimension_worst</th>\n",
              "    </tr>\n",
              "  </thead>\n",
              "  <tbody>\n",
              "    <tr>\n",
              "      <th>0</th>\n",
              "      <td>M</td>\n",
              "      <td>17.99</td>\n",
              "      <td>10.38</td>\n",
              "      <td>122.8</td>\n",
              "      <td>1001.0</td>\n",
              "      <td>0.1184</td>\n",
              "      <td>0.2776</td>\n",
              "      <td>0.3001</td>\n",
              "      <td>0.1471</td>\n",
              "      <td>0.2419</td>\n",
              "      <td>...</td>\n",
              "      <td>25.38</td>\n",
              "      <td>17.33</td>\n",
              "      <td>184.6</td>\n",
              "      <td>2019.0</td>\n",
              "      <td>0.1622</td>\n",
              "      <td>0.6656</td>\n",
              "      <td>0.7119</td>\n",
              "      <td>0.2654</td>\n",
              "      <td>0.4601</td>\n",
              "      <td>0.1189</td>\n",
              "    </tr>\n",
              "  </tbody>\n",
              "</table>\n",
              "<p>1 rows × 31 columns</p>\n",
              "</div>\n",
              "      <button class=\"colab-df-convert\" onclick=\"convertToInteractive('df-8add2821-d796-493d-83de-664d1e9a65eb')\"\n",
              "              title=\"Convert this dataframe to an interactive table.\"\n",
              "              style=\"display:none;\">\n",
              "\n",
              "  <svg xmlns=\"http://www.w3.org/2000/svg\" height=\"24px\"viewBox=\"0 0 24 24\"\n",
              "       width=\"24px\">\n",
              "    <path d=\"M0 0h24v24H0V0z\" fill=\"none\"/>\n",
              "    <path d=\"M18.56 5.44l.94 2.06.94-2.06 2.06-.94-2.06-.94-.94-2.06-.94 2.06-2.06.94zm-11 1L8.5 8.5l.94-2.06 2.06-.94-2.06-.94L8.5 2.5l-.94 2.06-2.06.94zm10 10l.94 2.06.94-2.06 2.06-.94-2.06-.94-.94-2.06-.94 2.06-2.06.94z\"/><path d=\"M17.41 7.96l-1.37-1.37c-.4-.4-.92-.59-1.43-.59-.52 0-1.04.2-1.43.59L10.3 9.45l-7.72 7.72c-.78.78-.78 2.05 0 2.83L4 21.41c.39.39.9.59 1.41.59.51 0 1.02-.2 1.41-.59l7.78-7.78 2.81-2.81c.8-.78.8-2.07 0-2.86zM5.41 20L4 18.59l7.72-7.72 1.47 1.35L5.41 20z\"/>\n",
              "  </svg>\n",
              "      </button>\n",
              "\n",
              "\n",
              "\n",
              "    <div id=\"df-a2584446-9c7f-4214-8f2d-010db54bac20\">\n",
              "      <button class=\"colab-df-quickchart\" onclick=\"quickchart('df-a2584446-9c7f-4214-8f2d-010db54bac20')\"\n",
              "              title=\"Suggest charts.\"\n",
              "              style=\"display:none;\">\n",
              "\n",
              "<svg xmlns=\"http://www.w3.org/2000/svg\" height=\"24px\"viewBox=\"0 0 24 24\"\n",
              "     width=\"24px\">\n",
              "    <g>\n",
              "        <path d=\"M19 3H5c-1.1 0-2 .9-2 2v14c0 1.1.9 2 2 2h14c1.1 0 2-.9 2-2V5c0-1.1-.9-2-2-2zM9 17H7v-7h2v7zm4 0h-2V7h2v10zm4 0h-2v-4h2v4z\"/>\n",
              "    </g>\n",
              "</svg>\n",
              "      </button>\n",
              "    </div>\n",
              "\n",
              "<style>\n",
              "  .colab-df-quickchart {\n",
              "    background-color: #E8F0FE;\n",
              "    border: none;\n",
              "    border-radius: 50%;\n",
              "    cursor: pointer;\n",
              "    display: none;\n",
              "    fill: #1967D2;\n",
              "    height: 32px;\n",
              "    padding: 0 0 0 0;\n",
              "    width: 32px;\n",
              "  }\n",
              "\n",
              "  .colab-df-quickchart:hover {\n",
              "    background-color: #E2EBFA;\n",
              "    box-shadow: 0px 1px 2px rgba(60, 64, 67, 0.3), 0px 1px 3px 1px rgba(60, 64, 67, 0.15);\n",
              "    fill: #174EA6;\n",
              "  }\n",
              "\n",
              "  [theme=dark] .colab-df-quickchart {\n",
              "    background-color: #3B4455;\n",
              "    fill: #D2E3FC;\n",
              "  }\n",
              "\n",
              "  [theme=dark] .colab-df-quickchart:hover {\n",
              "    background-color: #434B5C;\n",
              "    box-shadow: 0px 1px 3px 1px rgba(0, 0, 0, 0.15);\n",
              "    filter: drop-shadow(0px 1px 2px rgba(0, 0, 0, 0.3));\n",
              "    fill: #FFFFFF;\n",
              "  }\n",
              "</style>\n",
              "\n",
              "    <script>\n",
              "      async function quickchart(key) {\n",
              "        const containerElement = document.querySelector('#' + key);\n",
              "        const charts = await google.colab.kernel.invokeFunction(\n",
              "            'suggestCharts', [key], {});\n",
              "      }\n",
              "    </script>\n",
              "\n",
              "      <script>\n",
              "\n",
              "function displayQuickchartButton(domScope) {\n",
              "  let quickchartButtonEl =\n",
              "    domScope.querySelector('#df-a2584446-9c7f-4214-8f2d-010db54bac20 button.colab-df-quickchart');\n",
              "  quickchartButtonEl.style.display =\n",
              "    google.colab.kernel.accessAllowed ? 'block' : 'none';\n",
              "}\n",
              "\n",
              "        displayQuickchartButton(document);\n",
              "      </script>\n",
              "      <style>\n",
              "    .colab-df-container {\n",
              "      display:flex;\n",
              "      flex-wrap:wrap;\n",
              "      gap: 12px;\n",
              "    }\n",
              "\n",
              "    .colab-df-convert {\n",
              "      background-color: #E8F0FE;\n",
              "      border: none;\n",
              "      border-radius: 50%;\n",
              "      cursor: pointer;\n",
              "      display: none;\n",
              "      fill: #1967D2;\n",
              "      height: 32px;\n",
              "      padding: 0 0 0 0;\n",
              "      width: 32px;\n",
              "    }\n",
              "\n",
              "    .colab-df-convert:hover {\n",
              "      background-color: #E2EBFA;\n",
              "      box-shadow: 0px 1px 2px rgba(60, 64, 67, 0.3), 0px 1px 3px 1px rgba(60, 64, 67, 0.15);\n",
              "      fill: #174EA6;\n",
              "    }\n",
              "\n",
              "    [theme=dark] .colab-df-convert {\n",
              "      background-color: #3B4455;\n",
              "      fill: #D2E3FC;\n",
              "    }\n",
              "\n",
              "    [theme=dark] .colab-df-convert:hover {\n",
              "      background-color: #434B5C;\n",
              "      box-shadow: 0px 1px 3px 1px rgba(0, 0, 0, 0.15);\n",
              "      filter: drop-shadow(0px 1px 2px rgba(0, 0, 0, 0.3));\n",
              "      fill: #FFFFFF;\n",
              "    }\n",
              "  </style>\n",
              "\n",
              "      <script>\n",
              "        const buttonEl =\n",
              "          document.querySelector('#df-8add2821-d796-493d-83de-664d1e9a65eb button.colab-df-convert');\n",
              "        buttonEl.style.display =\n",
              "          google.colab.kernel.accessAllowed ? 'block' : 'none';\n",
              "\n",
              "        async function convertToInteractive(key) {\n",
              "          const element = document.querySelector('#df-8add2821-d796-493d-83de-664d1e9a65eb');\n",
              "          const dataTable =\n",
              "            await google.colab.kernel.invokeFunction('convertToInteractive',\n",
              "                                                     [key], {});\n",
              "          if (!dataTable) return;\n",
              "\n",
              "          const docLinkHtml = 'Like what you see? Visit the ' +\n",
              "            '<a target=\"_blank\" href=https://colab.research.google.com/notebooks/data_table.ipynb>data table notebook</a>'\n",
              "            + ' to learn more about interactive tables.';\n",
              "          element.innerHTML = '';\n",
              "          dataTable['output_type'] = 'display_data';\n",
              "          await google.colab.output.renderOutput(dataTable, element);\n",
              "          const docLink = document.createElement('div');\n",
              "          docLink.innerHTML = docLinkHtml;\n",
              "          element.appendChild(docLink);\n",
              "        }\n",
              "      </script>\n",
              "    </div>\n",
              "  </div>\n"
            ]
          },
          "metadata": {},
          "execution_count": 9
        }
      ]
    },
    {
      "cell_type": "code",
      "source": [
        "# We will shuffle data inside DataFrame using sample method\n",
        "data_df_shuffled = data_df_clean.sample(frac=1.0, random_state=42)\n",
        "\n",
        "data_df_shuffled.head(3)"
      ],
      "metadata": {
        "colab": {
          "base_uri": "https://localhost:8080/",
          "height": 254
        },
        "id": "OMzlyULvAyrL",
        "outputId": "ef426e7d-14ac-40ce-b236-3e9b9100ca7f"
      },
      "execution_count": null,
      "outputs": [
        {
          "output_type": "execute_result",
          "data": {
            "text/plain": [
              "    diagnosis  radius_mean  texture_mean  perimeter_mean  area_mean  \\\n",
              "204         B        12.47         18.60           81.09      481.9   \n",
              "70          M        18.94         21.31          123.60     1130.0   \n",
              "131         M        15.46         19.48          101.70      748.9   \n",
              "\n",
              "     smoothness_mean  compactness_mean  concavity_mean  concave points_mean  \\\n",
              "204          0.09965            0.1058         0.08005              0.03821   \n",
              "70           0.09009            0.1029         0.10800              0.07951   \n",
              "131          0.10920            0.1223         0.14660              0.08087   \n",
              "\n",
              "     symmetry_mean  ...  radius_worst  texture_worst  perimeter_worst  \\\n",
              "204         0.1925  ...         14.97          24.64            96.05   \n",
              "70          0.1582  ...         24.86          26.58           165.90   \n",
              "131         0.1931  ...         19.26          26.00           124.90   \n",
              "\n",
              "     area_worst  smoothness_worst  compactness_worst  concavity_worst  \\\n",
              "204       677.9            0.1426             0.2378           0.2671   \n",
              "70       1866.0            0.1193             0.2336           0.2687   \n",
              "131      1156.0            0.1546             0.2394           0.3791   \n",
              "\n",
              "     concave points_worst  symmetry_worst  fractal_dimension_worst  \n",
              "204                0.1015          0.3014                  0.08750  \n",
              "70                 0.1789          0.2551                  0.06589  \n",
              "131                0.1514          0.2837                  0.08019  \n",
              "\n",
              "[3 rows x 31 columns]"
            ],
            "text/html": [
              "\n",
              "\n",
              "  <div id=\"df-c5510976-8f21-4ef7-a61e-22d1afb26ee4\">\n",
              "    <div class=\"colab-df-container\">\n",
              "      <div>\n",
              "<style scoped>\n",
              "    .dataframe tbody tr th:only-of-type {\n",
              "        vertical-align: middle;\n",
              "    }\n",
              "\n",
              "    .dataframe tbody tr th {\n",
              "        vertical-align: top;\n",
              "    }\n",
              "\n",
              "    .dataframe thead th {\n",
              "        text-align: right;\n",
              "    }\n",
              "</style>\n",
              "<table border=\"1\" class=\"dataframe\">\n",
              "  <thead>\n",
              "    <tr style=\"text-align: right;\">\n",
              "      <th></th>\n",
              "      <th>diagnosis</th>\n",
              "      <th>radius_mean</th>\n",
              "      <th>texture_mean</th>\n",
              "      <th>perimeter_mean</th>\n",
              "      <th>area_mean</th>\n",
              "      <th>smoothness_mean</th>\n",
              "      <th>compactness_mean</th>\n",
              "      <th>concavity_mean</th>\n",
              "      <th>concave points_mean</th>\n",
              "      <th>symmetry_mean</th>\n",
              "      <th>...</th>\n",
              "      <th>radius_worst</th>\n",
              "      <th>texture_worst</th>\n",
              "      <th>perimeter_worst</th>\n",
              "      <th>area_worst</th>\n",
              "      <th>smoothness_worst</th>\n",
              "      <th>compactness_worst</th>\n",
              "      <th>concavity_worst</th>\n",
              "      <th>concave points_worst</th>\n",
              "      <th>symmetry_worst</th>\n",
              "      <th>fractal_dimension_worst</th>\n",
              "    </tr>\n",
              "  </thead>\n",
              "  <tbody>\n",
              "    <tr>\n",
              "      <th>204</th>\n",
              "      <td>B</td>\n",
              "      <td>12.47</td>\n",
              "      <td>18.60</td>\n",
              "      <td>81.09</td>\n",
              "      <td>481.9</td>\n",
              "      <td>0.09965</td>\n",
              "      <td>0.1058</td>\n",
              "      <td>0.08005</td>\n",
              "      <td>0.03821</td>\n",
              "      <td>0.1925</td>\n",
              "      <td>...</td>\n",
              "      <td>14.97</td>\n",
              "      <td>24.64</td>\n",
              "      <td>96.05</td>\n",
              "      <td>677.9</td>\n",
              "      <td>0.1426</td>\n",
              "      <td>0.2378</td>\n",
              "      <td>0.2671</td>\n",
              "      <td>0.1015</td>\n",
              "      <td>0.3014</td>\n",
              "      <td>0.08750</td>\n",
              "    </tr>\n",
              "    <tr>\n",
              "      <th>70</th>\n",
              "      <td>M</td>\n",
              "      <td>18.94</td>\n",
              "      <td>21.31</td>\n",
              "      <td>123.60</td>\n",
              "      <td>1130.0</td>\n",
              "      <td>0.09009</td>\n",
              "      <td>0.1029</td>\n",
              "      <td>0.10800</td>\n",
              "      <td>0.07951</td>\n",
              "      <td>0.1582</td>\n",
              "      <td>...</td>\n",
              "      <td>24.86</td>\n",
              "      <td>26.58</td>\n",
              "      <td>165.90</td>\n",
              "      <td>1866.0</td>\n",
              "      <td>0.1193</td>\n",
              "      <td>0.2336</td>\n",
              "      <td>0.2687</td>\n",
              "      <td>0.1789</td>\n",
              "      <td>0.2551</td>\n",
              "      <td>0.06589</td>\n",
              "    </tr>\n",
              "    <tr>\n",
              "      <th>131</th>\n",
              "      <td>M</td>\n",
              "      <td>15.46</td>\n",
              "      <td>19.48</td>\n",
              "      <td>101.70</td>\n",
              "      <td>748.9</td>\n",
              "      <td>0.10920</td>\n",
              "      <td>0.1223</td>\n",
              "      <td>0.14660</td>\n",
              "      <td>0.08087</td>\n",
              "      <td>0.1931</td>\n",
              "      <td>...</td>\n",
              "      <td>19.26</td>\n",
              "      <td>26.00</td>\n",
              "      <td>124.90</td>\n",
              "      <td>1156.0</td>\n",
              "      <td>0.1546</td>\n",
              "      <td>0.2394</td>\n",
              "      <td>0.3791</td>\n",
              "      <td>0.1514</td>\n",
              "      <td>0.2837</td>\n",
              "      <td>0.08019</td>\n",
              "    </tr>\n",
              "  </tbody>\n",
              "</table>\n",
              "<p>3 rows × 31 columns</p>\n",
              "</div>\n",
              "      <button class=\"colab-df-convert\" onclick=\"convertToInteractive('df-c5510976-8f21-4ef7-a61e-22d1afb26ee4')\"\n",
              "              title=\"Convert this dataframe to an interactive table.\"\n",
              "              style=\"display:none;\">\n",
              "\n",
              "  <svg xmlns=\"http://www.w3.org/2000/svg\" height=\"24px\"viewBox=\"0 0 24 24\"\n",
              "       width=\"24px\">\n",
              "    <path d=\"M0 0h24v24H0V0z\" fill=\"none\"/>\n",
              "    <path d=\"M18.56 5.44l.94 2.06.94-2.06 2.06-.94-2.06-.94-.94-2.06-.94 2.06-2.06.94zm-11 1L8.5 8.5l.94-2.06 2.06-.94-2.06-.94L8.5 2.5l-.94 2.06-2.06.94zm10 10l.94 2.06.94-2.06 2.06-.94-2.06-.94-.94-2.06-.94 2.06-2.06.94z\"/><path d=\"M17.41 7.96l-1.37-1.37c-.4-.4-.92-.59-1.43-.59-.52 0-1.04.2-1.43.59L10.3 9.45l-7.72 7.72c-.78.78-.78 2.05 0 2.83L4 21.41c.39.39.9.59 1.41.59.51 0 1.02-.2 1.41-.59l7.78-7.78 2.81-2.81c.8-.78.8-2.07 0-2.86zM5.41 20L4 18.59l7.72-7.72 1.47 1.35L5.41 20z\"/>\n",
              "  </svg>\n",
              "      </button>\n",
              "\n",
              "\n",
              "\n",
              "    <div id=\"df-2c46d115-87d8-4865-a0c6-81f31454d53c\">\n",
              "      <button class=\"colab-df-quickchart\" onclick=\"quickchart('df-2c46d115-87d8-4865-a0c6-81f31454d53c')\"\n",
              "              title=\"Suggest charts.\"\n",
              "              style=\"display:none;\">\n",
              "\n",
              "<svg xmlns=\"http://www.w3.org/2000/svg\" height=\"24px\"viewBox=\"0 0 24 24\"\n",
              "     width=\"24px\">\n",
              "    <g>\n",
              "        <path d=\"M19 3H5c-1.1 0-2 .9-2 2v14c0 1.1.9 2 2 2h14c1.1 0 2-.9 2-2V5c0-1.1-.9-2-2-2zM9 17H7v-7h2v7zm4 0h-2V7h2v10zm4 0h-2v-4h2v4z\"/>\n",
              "    </g>\n",
              "</svg>\n",
              "      </button>\n",
              "    </div>\n",
              "\n",
              "<style>\n",
              "  .colab-df-quickchart {\n",
              "    background-color: #E8F0FE;\n",
              "    border: none;\n",
              "    border-radius: 50%;\n",
              "    cursor: pointer;\n",
              "    display: none;\n",
              "    fill: #1967D2;\n",
              "    height: 32px;\n",
              "    padding: 0 0 0 0;\n",
              "    width: 32px;\n",
              "  }\n",
              "\n",
              "  .colab-df-quickchart:hover {\n",
              "    background-color: #E2EBFA;\n",
              "    box-shadow: 0px 1px 2px rgba(60, 64, 67, 0.3), 0px 1px 3px 1px rgba(60, 64, 67, 0.15);\n",
              "    fill: #174EA6;\n",
              "  }\n",
              "\n",
              "  [theme=dark] .colab-df-quickchart {\n",
              "    background-color: #3B4455;\n",
              "    fill: #D2E3FC;\n",
              "  }\n",
              "\n",
              "  [theme=dark] .colab-df-quickchart:hover {\n",
              "    background-color: #434B5C;\n",
              "    box-shadow: 0px 1px 3px 1px rgba(0, 0, 0, 0.15);\n",
              "    filter: drop-shadow(0px 1px 2px rgba(0, 0, 0, 0.3));\n",
              "    fill: #FFFFFF;\n",
              "  }\n",
              "</style>\n",
              "\n",
              "    <script>\n",
              "      async function quickchart(key) {\n",
              "        const containerElement = document.querySelector('#' + key);\n",
              "        const charts = await google.colab.kernel.invokeFunction(\n",
              "            'suggestCharts', [key], {});\n",
              "      }\n",
              "    </script>\n",
              "\n",
              "      <script>\n",
              "\n",
              "function displayQuickchartButton(domScope) {\n",
              "  let quickchartButtonEl =\n",
              "    domScope.querySelector('#df-2c46d115-87d8-4865-a0c6-81f31454d53c button.colab-df-quickchart');\n",
              "  quickchartButtonEl.style.display =\n",
              "    google.colab.kernel.accessAllowed ? 'block' : 'none';\n",
              "}\n",
              "\n",
              "        displayQuickchartButton(document);\n",
              "      </script>\n",
              "      <style>\n",
              "    .colab-df-container {\n",
              "      display:flex;\n",
              "      flex-wrap:wrap;\n",
              "      gap: 12px;\n",
              "    }\n",
              "\n",
              "    .colab-df-convert {\n",
              "      background-color: #E8F0FE;\n",
              "      border: none;\n",
              "      border-radius: 50%;\n",
              "      cursor: pointer;\n",
              "      display: none;\n",
              "      fill: #1967D2;\n",
              "      height: 32px;\n",
              "      padding: 0 0 0 0;\n",
              "      width: 32px;\n",
              "    }\n",
              "\n",
              "    .colab-df-convert:hover {\n",
              "      background-color: #E2EBFA;\n",
              "      box-shadow: 0px 1px 2px rgba(60, 64, 67, 0.3), 0px 1px 3px 1px rgba(60, 64, 67, 0.15);\n",
              "      fill: #174EA6;\n",
              "    }\n",
              "\n",
              "    [theme=dark] .colab-df-convert {\n",
              "      background-color: #3B4455;\n",
              "      fill: #D2E3FC;\n",
              "    }\n",
              "\n",
              "    [theme=dark] .colab-df-convert:hover {\n",
              "      background-color: #434B5C;\n",
              "      box-shadow: 0px 1px 3px 1px rgba(0, 0, 0, 0.15);\n",
              "      filter: drop-shadow(0px 1px 2px rgba(0, 0, 0, 0.3));\n",
              "      fill: #FFFFFF;\n",
              "    }\n",
              "  </style>\n",
              "\n",
              "      <script>\n",
              "        const buttonEl =\n",
              "          document.querySelector('#df-c5510976-8f21-4ef7-a61e-22d1afb26ee4 button.colab-df-convert');\n",
              "        buttonEl.style.display =\n",
              "          google.colab.kernel.accessAllowed ? 'block' : 'none';\n",
              "\n",
              "        async function convertToInteractive(key) {\n",
              "          const element = document.querySelector('#df-c5510976-8f21-4ef7-a61e-22d1afb26ee4');\n",
              "          const dataTable =\n",
              "            await google.colab.kernel.invokeFunction('convertToInteractive',\n",
              "                                                     [key], {});\n",
              "          if (!dataTable) return;\n",
              "\n",
              "          const docLinkHtml = 'Like what you see? Visit the ' +\n",
              "            '<a target=\"_blank\" href=https://colab.research.google.com/notebooks/data_table.ipynb>data table notebook</a>'\n",
              "            + ' to learn more about interactive tables.';\n",
              "          element.innerHTML = '';\n",
              "          dataTable['output_type'] = 'display_data';\n",
              "          await google.colab.output.renderOutput(dataTable, element);\n",
              "          const docLink = document.createElement('div');\n",
              "          docLink.innerHTML = docLinkHtml;\n",
              "          element.appendChild(docLink);\n",
              "        }\n",
              "      </script>\n",
              "    </div>\n",
              "  </div>\n"
            ]
          },
          "metadata": {},
          "execution_count": 10
        }
      ]
    },
    {
      "cell_type": "code",
      "source": [
        "full_features, full_labels = data_df_shuffled.drop('diagnosis', axis=1), data_df_shuffled['diagnosis']\n",
        "\n",
        "len(full_features), len(full_labels)"
      ],
      "metadata": {
        "colab": {
          "base_uri": "https://localhost:8080/"
        },
        "id": "6UMM778BA6Y7",
        "outputId": "86b8a3cb-0692-4e35-dcf1-b0f3a1d026c6"
      },
      "execution_count": null,
      "outputs": [
        {
          "output_type": "execute_result",
          "data": {
            "text/plain": [
              "(569, 569)"
            ]
          },
          "metadata": {},
          "execution_count": 11
        }
      ]
    },
    {
      "cell_type": "code",
      "source": [
        "full_features.head(3)"
      ],
      "metadata": {
        "colab": {
          "base_uri": "https://localhost:8080/",
          "height": 254
        },
        "id": "Kby2Q-PQBARF",
        "outputId": "28d8461f-04be-4316-d47a-25fbfe4bbd40"
      },
      "execution_count": null,
      "outputs": [
        {
          "output_type": "execute_result",
          "data": {
            "text/plain": [
              "     radius_mean  texture_mean  perimeter_mean  area_mean  smoothness_mean  \\\n",
              "204        12.47         18.60           81.09      481.9          0.09965   \n",
              "70         18.94         21.31          123.60     1130.0          0.09009   \n",
              "131        15.46         19.48          101.70      748.9          0.10920   \n",
              "\n",
              "     compactness_mean  concavity_mean  concave points_mean  symmetry_mean  \\\n",
              "204            0.1058         0.08005              0.03821         0.1925   \n",
              "70             0.1029         0.10800              0.07951         0.1582   \n",
              "131            0.1223         0.14660              0.08087         0.1931   \n",
              "\n",
              "     fractal_dimension_mean  ...  radius_worst  texture_worst  \\\n",
              "204                 0.06373  ...         14.97          24.64   \n",
              "70                  0.05461  ...         24.86          26.58   \n",
              "131                 0.05796  ...         19.26          26.00   \n",
              "\n",
              "     perimeter_worst  area_worst  smoothness_worst  compactness_worst  \\\n",
              "204            96.05       677.9            0.1426             0.2378   \n",
              "70            165.90      1866.0            0.1193             0.2336   \n",
              "131           124.90      1156.0            0.1546             0.2394   \n",
              "\n",
              "     concavity_worst  concave points_worst  symmetry_worst  \\\n",
              "204           0.2671                0.1015          0.3014   \n",
              "70            0.2687                0.1789          0.2551   \n",
              "131           0.3791                0.1514          0.2837   \n",
              "\n",
              "     fractal_dimension_worst  \n",
              "204                  0.08750  \n",
              "70                   0.06589  \n",
              "131                  0.08019  \n",
              "\n",
              "[3 rows x 30 columns]"
            ],
            "text/html": [
              "\n",
              "\n",
              "  <div id=\"df-f9a1efc0-a1b7-41dc-a85e-33bcab96915e\">\n",
              "    <div class=\"colab-df-container\">\n",
              "      <div>\n",
              "<style scoped>\n",
              "    .dataframe tbody tr th:only-of-type {\n",
              "        vertical-align: middle;\n",
              "    }\n",
              "\n",
              "    .dataframe tbody tr th {\n",
              "        vertical-align: top;\n",
              "    }\n",
              "\n",
              "    .dataframe thead th {\n",
              "        text-align: right;\n",
              "    }\n",
              "</style>\n",
              "<table border=\"1\" class=\"dataframe\">\n",
              "  <thead>\n",
              "    <tr style=\"text-align: right;\">\n",
              "      <th></th>\n",
              "      <th>radius_mean</th>\n",
              "      <th>texture_mean</th>\n",
              "      <th>perimeter_mean</th>\n",
              "      <th>area_mean</th>\n",
              "      <th>smoothness_mean</th>\n",
              "      <th>compactness_mean</th>\n",
              "      <th>concavity_mean</th>\n",
              "      <th>concave points_mean</th>\n",
              "      <th>symmetry_mean</th>\n",
              "      <th>fractal_dimension_mean</th>\n",
              "      <th>...</th>\n",
              "      <th>radius_worst</th>\n",
              "      <th>texture_worst</th>\n",
              "      <th>perimeter_worst</th>\n",
              "      <th>area_worst</th>\n",
              "      <th>smoothness_worst</th>\n",
              "      <th>compactness_worst</th>\n",
              "      <th>concavity_worst</th>\n",
              "      <th>concave points_worst</th>\n",
              "      <th>symmetry_worst</th>\n",
              "      <th>fractal_dimension_worst</th>\n",
              "    </tr>\n",
              "  </thead>\n",
              "  <tbody>\n",
              "    <tr>\n",
              "      <th>204</th>\n",
              "      <td>12.47</td>\n",
              "      <td>18.60</td>\n",
              "      <td>81.09</td>\n",
              "      <td>481.9</td>\n",
              "      <td>0.09965</td>\n",
              "      <td>0.1058</td>\n",
              "      <td>0.08005</td>\n",
              "      <td>0.03821</td>\n",
              "      <td>0.1925</td>\n",
              "      <td>0.06373</td>\n",
              "      <td>...</td>\n",
              "      <td>14.97</td>\n",
              "      <td>24.64</td>\n",
              "      <td>96.05</td>\n",
              "      <td>677.9</td>\n",
              "      <td>0.1426</td>\n",
              "      <td>0.2378</td>\n",
              "      <td>0.2671</td>\n",
              "      <td>0.1015</td>\n",
              "      <td>0.3014</td>\n",
              "      <td>0.08750</td>\n",
              "    </tr>\n",
              "    <tr>\n",
              "      <th>70</th>\n",
              "      <td>18.94</td>\n",
              "      <td>21.31</td>\n",
              "      <td>123.60</td>\n",
              "      <td>1130.0</td>\n",
              "      <td>0.09009</td>\n",
              "      <td>0.1029</td>\n",
              "      <td>0.10800</td>\n",
              "      <td>0.07951</td>\n",
              "      <td>0.1582</td>\n",
              "      <td>0.05461</td>\n",
              "      <td>...</td>\n",
              "      <td>24.86</td>\n",
              "      <td>26.58</td>\n",
              "      <td>165.90</td>\n",
              "      <td>1866.0</td>\n",
              "      <td>0.1193</td>\n",
              "      <td>0.2336</td>\n",
              "      <td>0.2687</td>\n",
              "      <td>0.1789</td>\n",
              "      <td>0.2551</td>\n",
              "      <td>0.06589</td>\n",
              "    </tr>\n",
              "    <tr>\n",
              "      <th>131</th>\n",
              "      <td>15.46</td>\n",
              "      <td>19.48</td>\n",
              "      <td>101.70</td>\n",
              "      <td>748.9</td>\n",
              "      <td>0.10920</td>\n",
              "      <td>0.1223</td>\n",
              "      <td>0.14660</td>\n",
              "      <td>0.08087</td>\n",
              "      <td>0.1931</td>\n",
              "      <td>0.05796</td>\n",
              "      <td>...</td>\n",
              "      <td>19.26</td>\n",
              "      <td>26.00</td>\n",
              "      <td>124.90</td>\n",
              "      <td>1156.0</td>\n",
              "      <td>0.1546</td>\n",
              "      <td>0.2394</td>\n",
              "      <td>0.3791</td>\n",
              "      <td>0.1514</td>\n",
              "      <td>0.2837</td>\n",
              "      <td>0.08019</td>\n",
              "    </tr>\n",
              "  </tbody>\n",
              "</table>\n",
              "<p>3 rows × 30 columns</p>\n",
              "</div>\n",
              "      <button class=\"colab-df-convert\" onclick=\"convertToInteractive('df-f9a1efc0-a1b7-41dc-a85e-33bcab96915e')\"\n",
              "              title=\"Convert this dataframe to an interactive table.\"\n",
              "              style=\"display:none;\">\n",
              "\n",
              "  <svg xmlns=\"http://www.w3.org/2000/svg\" height=\"24px\"viewBox=\"0 0 24 24\"\n",
              "       width=\"24px\">\n",
              "    <path d=\"M0 0h24v24H0V0z\" fill=\"none\"/>\n",
              "    <path d=\"M18.56 5.44l.94 2.06.94-2.06 2.06-.94-2.06-.94-.94-2.06-.94 2.06-2.06.94zm-11 1L8.5 8.5l.94-2.06 2.06-.94-2.06-.94L8.5 2.5l-.94 2.06-2.06.94zm10 10l.94 2.06.94-2.06 2.06-.94-2.06-.94-.94-2.06-.94 2.06-2.06.94z\"/><path d=\"M17.41 7.96l-1.37-1.37c-.4-.4-.92-.59-1.43-.59-.52 0-1.04.2-1.43.59L10.3 9.45l-7.72 7.72c-.78.78-.78 2.05 0 2.83L4 21.41c.39.39.9.59 1.41.59.51 0 1.02-.2 1.41-.59l7.78-7.78 2.81-2.81c.8-.78.8-2.07 0-2.86zM5.41 20L4 18.59l7.72-7.72 1.47 1.35L5.41 20z\"/>\n",
              "  </svg>\n",
              "      </button>\n",
              "\n",
              "\n",
              "\n",
              "    <div id=\"df-cf8163fe-be37-4835-bcf6-447fb4b378e1\">\n",
              "      <button class=\"colab-df-quickchart\" onclick=\"quickchart('df-cf8163fe-be37-4835-bcf6-447fb4b378e1')\"\n",
              "              title=\"Suggest charts.\"\n",
              "              style=\"display:none;\">\n",
              "\n",
              "<svg xmlns=\"http://www.w3.org/2000/svg\" height=\"24px\"viewBox=\"0 0 24 24\"\n",
              "     width=\"24px\">\n",
              "    <g>\n",
              "        <path d=\"M19 3H5c-1.1 0-2 .9-2 2v14c0 1.1.9 2 2 2h14c1.1 0 2-.9 2-2V5c0-1.1-.9-2-2-2zM9 17H7v-7h2v7zm4 0h-2V7h2v10zm4 0h-2v-4h2v4z\"/>\n",
              "    </g>\n",
              "</svg>\n",
              "      </button>\n",
              "    </div>\n",
              "\n",
              "<style>\n",
              "  .colab-df-quickchart {\n",
              "    background-color: #E8F0FE;\n",
              "    border: none;\n",
              "    border-radius: 50%;\n",
              "    cursor: pointer;\n",
              "    display: none;\n",
              "    fill: #1967D2;\n",
              "    height: 32px;\n",
              "    padding: 0 0 0 0;\n",
              "    width: 32px;\n",
              "  }\n",
              "\n",
              "  .colab-df-quickchart:hover {\n",
              "    background-color: #E2EBFA;\n",
              "    box-shadow: 0px 1px 2px rgba(60, 64, 67, 0.3), 0px 1px 3px 1px rgba(60, 64, 67, 0.15);\n",
              "    fill: #174EA6;\n",
              "  }\n",
              "\n",
              "  [theme=dark] .colab-df-quickchart {\n",
              "    background-color: #3B4455;\n",
              "    fill: #D2E3FC;\n",
              "  }\n",
              "\n",
              "  [theme=dark] .colab-df-quickchart:hover {\n",
              "    background-color: #434B5C;\n",
              "    box-shadow: 0px 1px 3px 1px rgba(0, 0, 0, 0.15);\n",
              "    filter: drop-shadow(0px 1px 2px rgba(0, 0, 0, 0.3));\n",
              "    fill: #FFFFFF;\n",
              "  }\n",
              "</style>\n",
              "\n",
              "    <script>\n",
              "      async function quickchart(key) {\n",
              "        const containerElement = document.querySelector('#' + key);\n",
              "        const charts = await google.colab.kernel.invokeFunction(\n",
              "            'suggestCharts', [key], {});\n",
              "      }\n",
              "    </script>\n",
              "\n",
              "      <script>\n",
              "\n",
              "function displayQuickchartButton(domScope) {\n",
              "  let quickchartButtonEl =\n",
              "    domScope.querySelector('#df-cf8163fe-be37-4835-bcf6-447fb4b378e1 button.colab-df-quickchart');\n",
              "  quickchartButtonEl.style.display =\n",
              "    google.colab.kernel.accessAllowed ? 'block' : 'none';\n",
              "}\n",
              "\n",
              "        displayQuickchartButton(document);\n",
              "      </script>\n",
              "      <style>\n",
              "    .colab-df-container {\n",
              "      display:flex;\n",
              "      flex-wrap:wrap;\n",
              "      gap: 12px;\n",
              "    }\n",
              "\n",
              "    .colab-df-convert {\n",
              "      background-color: #E8F0FE;\n",
              "      border: none;\n",
              "      border-radius: 50%;\n",
              "      cursor: pointer;\n",
              "      display: none;\n",
              "      fill: #1967D2;\n",
              "      height: 32px;\n",
              "      padding: 0 0 0 0;\n",
              "      width: 32px;\n",
              "    }\n",
              "\n",
              "    .colab-df-convert:hover {\n",
              "      background-color: #E2EBFA;\n",
              "      box-shadow: 0px 1px 2px rgba(60, 64, 67, 0.3), 0px 1px 3px 1px rgba(60, 64, 67, 0.15);\n",
              "      fill: #174EA6;\n",
              "    }\n",
              "\n",
              "    [theme=dark] .colab-df-convert {\n",
              "      background-color: #3B4455;\n",
              "      fill: #D2E3FC;\n",
              "    }\n",
              "\n",
              "    [theme=dark] .colab-df-convert:hover {\n",
              "      background-color: #434B5C;\n",
              "      box-shadow: 0px 1px 3px 1px rgba(0, 0, 0, 0.15);\n",
              "      filter: drop-shadow(0px 1px 2px rgba(0, 0, 0, 0.3));\n",
              "      fill: #FFFFFF;\n",
              "    }\n",
              "  </style>\n",
              "\n",
              "      <script>\n",
              "        const buttonEl =\n",
              "          document.querySelector('#df-f9a1efc0-a1b7-41dc-a85e-33bcab96915e button.colab-df-convert');\n",
              "        buttonEl.style.display =\n",
              "          google.colab.kernel.accessAllowed ? 'block' : 'none';\n",
              "\n",
              "        async function convertToInteractive(key) {\n",
              "          const element = document.querySelector('#df-f9a1efc0-a1b7-41dc-a85e-33bcab96915e');\n",
              "          const dataTable =\n",
              "            await google.colab.kernel.invokeFunction('convertToInteractive',\n",
              "                                                     [key], {});\n",
              "          if (!dataTable) return;\n",
              "\n",
              "          const docLinkHtml = 'Like what you see? Visit the ' +\n",
              "            '<a target=\"_blank\" href=https://colab.research.google.com/notebooks/data_table.ipynb>data table notebook</a>'\n",
              "            + ' to learn more about interactive tables.';\n",
              "          element.innerHTML = '';\n",
              "          dataTable['output_type'] = 'display_data';\n",
              "          await google.colab.output.renderOutput(dataTable, element);\n",
              "          const docLink = document.createElement('div');\n",
              "          docLink.innerHTML = docLinkHtml;\n",
              "          element.appendChild(docLink);\n",
              "        }\n",
              "      </script>\n",
              "    </div>\n",
              "  </div>\n"
            ]
          },
          "metadata": {},
          "execution_count": 12
        }
      ]
    },
    {
      "cell_type": "code",
      "source": [
        "full_labels.head(3)"
      ],
      "metadata": {
        "colab": {
          "base_uri": "https://localhost:8080/"
        },
        "id": "OXzhrEBeBJ6l",
        "outputId": "2aaa2373-81a9-485a-c1ee-e870b9a68a0b"
      },
      "execution_count": null,
      "outputs": [
        {
          "output_type": "execute_result",
          "data": {
            "text/plain": [
              "204    B\n",
              "70     M\n",
              "131    M\n",
              "Name: diagnosis, dtype: object"
            ]
          },
          "metadata": {},
          "execution_count": 13
        }
      ]
    },
    {
      "cell_type": "code",
      "source": [
        "# split data into train and test set\n",
        "X_train, X_test, y_train, y_test = train_test_split(full_features, full_labels, test_size=0.2, random_state=42)\n",
        "\n",
        "len(X_train), len(X_test), len(y_train), len(y_test)"
      ],
      "metadata": {
        "colab": {
          "base_uri": "https://localhost:8080/"
        },
        "id": "ExS9tVtDBMxF",
        "outputId": "59295bb6-e277-4329-8730-69a4b195891c"
      },
      "execution_count": null,
      "outputs": [
        {
          "output_type": "execute_result",
          "data": {
            "text/plain": [
              "(455, 114, 455, 114)"
            ]
          },
          "metadata": {},
          "execution_count": 14
        }
      ]
    },
    {
      "cell_type": "code",
      "source": [
        "# Check distribution of classes after we randomly splited the data into the train and test sets\n",
        "y_train.value_counts()"
      ],
      "metadata": {
        "colab": {
          "base_uri": "https://localhost:8080/"
        },
        "id": "hCE3BbtwBPkf",
        "outputId": "1415bc21-c49b-4e06-eab2-23329a36798f"
      },
      "execution_count": null,
      "outputs": [
        {
          "output_type": "execute_result",
          "data": {
            "text/plain": [
              "B    289\n",
              "M    166\n",
              "Name: diagnosis, dtype: int64"
            ]
          },
          "metadata": {},
          "execution_count": 15
        }
      ]
    },
    {
      "cell_type": "code",
      "source": [
        "y_test.value_counts()"
      ],
      "metadata": {
        "colab": {
          "base_uri": "https://localhost:8080/"
        },
        "id": "wVjJgJDRBSNB",
        "outputId": "500a98ff-0f6a-4607-8c91-557b1437868b"
      },
      "execution_count": null,
      "outputs": [
        {
          "output_type": "execute_result",
          "data": {
            "text/plain": [
              "B    68\n",
              "M    46\n",
              "Name: diagnosis, dtype: int64"
            ]
          },
          "metadata": {},
          "execution_count": 16
        }
      ]
    },
    {
      "cell_type": "markdown",
      "source": [
        "### Scale and encode data"
      ],
      "metadata": {
        "id": "L-uhwJeiBYO9"
      }
    },
    {
      "cell_type": "markdown",
      "source": [
        "Scale features"
      ],
      "metadata": {
        "id": "ZIDdfgf6BclA"
      }
    },
    {
      "cell_type": "code",
      "source": [
        "# We will use scikit-learn's MinMaxScaler to scale our data\n",
        "from sklearn.preprocessing import MinMaxScaler"
      ],
      "metadata": {
        "id": "fLnfGLV2Bf-N"
      },
      "execution_count": null,
      "outputs": []
    },
    {
      "cell_type": "code",
      "source": [
        "full_features.dtypes"
      ],
      "metadata": {
        "colab": {
          "base_uri": "https://localhost:8080/"
        },
        "id": "Nw7ZHO12BiUL",
        "outputId": "b51d1978-f6f7-4140-93f0-a72b46028122"
      },
      "execution_count": null,
      "outputs": [
        {
          "output_type": "execute_result",
          "data": {
            "text/plain": [
              "radius_mean                float64\n",
              "texture_mean               float64\n",
              "perimeter_mean             float64\n",
              "area_mean                  float64\n",
              "smoothness_mean            float64\n",
              "compactness_mean           float64\n",
              "concavity_mean             float64\n",
              "concave points_mean        float64\n",
              "symmetry_mean              float64\n",
              "fractal_dimension_mean     float64\n",
              "radius_se                  float64\n",
              "texture_se                 float64\n",
              "perimeter_se               float64\n",
              "area_se                    float64\n",
              "smoothness_se              float64\n",
              "compactness_se             float64\n",
              "concavity_se               float64\n",
              "concave points_se          float64\n",
              "symmetry_se                float64\n",
              "fractal_dimension_se       float64\n",
              "radius_worst               float64\n",
              "texture_worst              float64\n",
              "perimeter_worst            float64\n",
              "area_worst                 float64\n",
              "smoothness_worst           float64\n",
              "compactness_worst          float64\n",
              "concavity_worst            float64\n",
              "concave points_worst       float64\n",
              "symmetry_worst             float64\n",
              "fractal_dimension_worst    float64\n",
              "dtype: object"
            ]
          },
          "metadata": {},
          "execution_count": 26
        }
      ]
    },
    {
      "cell_type": "code",
      "source": [
        "scaler = MinMaxScaler()\n",
        "\n",
        "scaler.fit(X_train)\n",
        "\n",
        "X_train_scaled = scaler.transform(X_train)\n",
        "\n",
        "X_test_scaled = scaler.transform(X_test)\n",
        "\n",
        "X_train_scaled[:1]"
      ],
      "metadata": {
        "colab": {
          "base_uri": "https://localhost:8080/"
        },
        "id": "K8_NrcipBk6h",
        "outputId": "7e0ff3eb-74de-408d-fec9-c34ec2c9ed35"
      },
      "execution_count": null,
      "outputs": [
        {
          "output_type": "execute_result",
          "data": {
            "text/plain": [
              "array([[0.22854844, 0.24256055, 0.21753853, 0.12106045, 0.55145119,\n",
              "        0.0999503 , 0.05518293, 0.08269436, 0.33232323, 0.17121642,\n",
              "        0.02591894, 0.34604844, 0.0112973 , 0.01432206, 0.30503066,\n",
              "        0.03846913, 0.03929293, 0.11820421, 0.33078179, 0.03776792,\n",
              "        0.16506581, 0.40351889, 0.14522636, 0.07478864, 0.42547712,\n",
              "        0.07984757, 0.0703115 , 0.14797251, 0.38845331, 0.11457888]])"
            ]
          },
          "metadata": {},
          "execution_count": 27
        }
      ]
    },
    {
      "cell_type": "code",
      "source": [
        "X_train_scaled.shape"
      ],
      "metadata": {
        "colab": {
          "base_uri": "https://localhost:8080/"
        },
        "id": "-z2uP1DcBnnB",
        "outputId": "c12ded4e-24cc-4ec5-8bdb-f9178808c7b4"
      },
      "execution_count": null,
      "outputs": [
        {
          "output_type": "execute_result",
          "data": {
            "text/plain": [
              "(455, 30)"
            ]
          },
          "metadata": {},
          "execution_count": 28
        }
      ]
    },
    {
      "cell_type": "code",
      "source": [
        "X_train_scaled.dtype"
      ],
      "metadata": {
        "colab": {
          "base_uri": "https://localhost:8080/"
        },
        "id": "xcgsmNfABqCV",
        "outputId": "674ead2c-5f4e-4537-c99b-a46b5a1b8876"
      },
      "execution_count": null,
      "outputs": [
        {
          "output_type": "execute_result",
          "data": {
            "text/plain": [
              "dtype('float64')"
            ]
          },
          "metadata": {},
          "execution_count": 29
        }
      ]
    },
    {
      "cell_type": "markdown",
      "source": [
        "Encode labels"
      ],
      "metadata": {
        "id": "If2FsF00Bsdb"
      }
    },
    {
      "cell_type": "code",
      "source": [
        "# We will numericaly encode our labels\n",
        "from sklearn.preprocessing import LabelEncoder"
      ],
      "metadata": {
        "id": "Io3GVl0kBxT7"
      },
      "execution_count": null,
      "outputs": []
    },
    {
      "cell_type": "code",
      "source": [
        "le = LabelEncoder()\n",
        "\n",
        "le.fit(y_train)\n",
        "\n",
        "y_train_encoded = le.transform(y_train)\n",
        "y_test_encoded = le.transform(y_test)\n",
        "\n",
        "y_train_encoded[:4]"
      ],
      "metadata": {
        "colab": {
          "base_uri": "https://localhost:8080/"
        },
        "id": "OhuDGP22B0A9",
        "outputId": "7db43e2e-4d0b-4949-e0f8-8b31114b366e"
      },
      "execution_count": null,
      "outputs": [
        {
          "output_type": "execute_result",
          "data": {
            "text/plain": [
              "array([0, 0, 0, 1])"
            ]
          },
          "metadata": {},
          "execution_count": 31
        }
      ]
    },
    {
      "cell_type": "code",
      "source": [
        "y_train_encoded.shape"
      ],
      "metadata": {
        "colab": {
          "base_uri": "https://localhost:8080/"
        },
        "id": "NvmsC89IB2ep",
        "outputId": "fcef5647-e1dd-4ccf-c739-d2b2d6f3df0c"
      },
      "execution_count": null,
      "outputs": [
        {
          "output_type": "execute_result",
          "data": {
            "text/plain": [
              "(455,)"
            ]
          },
          "metadata": {},
          "execution_count": 32
        }
      ]
    },
    {
      "cell_type": "code",
      "source": [
        "y_train_encoded.dtype"
      ],
      "metadata": {
        "colab": {
          "base_uri": "https://localhost:8080/"
        },
        "id": "2rg51He4B7-V",
        "outputId": "ad057336-f434-4d77-b729-490e5c543c76"
      },
      "execution_count": null,
      "outputs": [
        {
          "output_type": "execute_result",
          "data": {
            "text/plain": [
              "dtype('int64')"
            ]
          },
          "metadata": {},
          "execution_count": 33
        }
      ]
    },
    {
      "cell_type": "code",
      "source": [
        "# get the class names from the label encoder\n",
        "class_names = list(le.classes_)\n",
        "\n",
        "class_names, len(class_names)"
      ],
      "metadata": {
        "colab": {
          "base_uri": "https://localhost:8080/"
        },
        "id": "9suCedJCB-ai",
        "outputId": "f49f6518-c453-461e-a219-f59dc241a31b"
      },
      "execution_count": null,
      "outputs": [
        {
          "output_type": "execute_result",
          "data": {
            "text/plain": [
              "(['B', 'M'], 2)"
            ]
          },
          "metadata": {},
          "execution_count": 34
        }
      ]
    },
    {
      "cell_type": "markdown",
      "source": [
        "## Build Models"
      ],
      "metadata": {
        "id": "AoZ_5NSpCA4N"
      }
    },
    {
      "cell_type": "markdown",
      "source": [
        "### Dense model + scaled data"
      ],
      "metadata": {
        "id": "zl0uzP_xFuPt"
      }
    },
    {
      "cell_type": "code",
      "source": [
        "from tensorflow.keras import layers"
      ],
      "metadata": {
        "id": "VVPC-fM5CEg2"
      },
      "execution_count": null,
      "outputs": []
    },
    {
      "cell_type": "code",
      "source": [
        "inputs = layers.Input(shape=(30,))\n",
        "\n",
        "x = layers.Dense(units=64, activation='relu')(inputs)\n",
        "\n",
        "x = layers.Dense(units=128, activation='relu')(x)\n",
        "\n",
        "outputs = layers.Dense(units=1, activation='sigmoid')(x)\n",
        "\n",
        "model_1 = tf.keras.Model(inputs, outputs, name='model_1')"
      ],
      "metadata": {
        "id": "s3dYSgXdCHY5"
      },
      "execution_count": null,
      "outputs": []
    },
    {
      "cell_type": "code",
      "source": [
        "model_1.compile(optimizer=tf.keras.optimizers.Adam(learning_rate=0.001),\n",
        "                loss=tf.keras.losses.BinaryCrossentropy(),\n",
        "                metrics=['accuracy'])"
      ],
      "metadata": {
        "id": "GQBFAOiHCJ7H"
      },
      "execution_count": null,
      "outputs": []
    },
    {
      "cell_type": "code",
      "source": [
        "model_1.summary()"
      ],
      "metadata": {
        "colab": {
          "base_uri": "https://localhost:8080/"
        },
        "id": "jdCQcClFCMYr",
        "outputId": "2b9368d6-d838-4078-abc9-bd361f352109"
      },
      "execution_count": null,
      "outputs": [
        {
          "output_type": "stream",
          "name": "stdout",
          "text": [
            "Model: \"model_1\"\n",
            "_________________________________________________________________\n",
            " Layer (type)                Output Shape              Param #   \n",
            "=================================================================\n",
            " input_1 (InputLayer)        [(None, 30)]              0         \n",
            "                                                                 \n",
            " dense (Dense)               (None, 64)                1984      \n",
            "                                                                 \n",
            " dense_1 (Dense)             (None, 128)               8320      \n",
            "                                                                 \n",
            " dense_2 (Dense)             (None, 1)                 129       \n",
            "                                                                 \n",
            "=================================================================\n",
            "Total params: 10,433\n",
            "Trainable params: 10,433\n",
            "Non-trainable params: 0\n",
            "_________________________________________________________________\n"
          ]
        }
      ]
    },
    {
      "cell_type": "code",
      "source": [
        "early_stop_callback = tf.keras.callbacks.EarlyStopping(patience=100,\n",
        "                                                       restore_best_weights=True)"
      ],
      "metadata": {
        "id": "eEJOjZHxCSwE"
      },
      "execution_count": null,
      "outputs": []
    },
    {
      "cell_type": "code",
      "source": [
        "history_1 = model_1.fit(x=X_train_scaled,\n",
        "                        y=y_train_encoded,\n",
        "                        epochs=300,\n",
        "                        validation_data=(X_test_scaled, y_test_encoded),\n",
        "                        callbacks=[early_stop_callback])"
      ],
      "metadata": {
        "colab": {
          "base_uri": "https://localhost:8080/"
        },
        "id": "sxkQHIujCPDL",
        "outputId": "e9c64766-7ada-40b1-834d-0fbf36b9a11f"
      },
      "execution_count": null,
      "outputs": [
        {
          "output_type": "stream",
          "name": "stdout",
          "text": [
            "Epoch 1/300\n",
            "15/15 [==============================] - 2s 18ms/step - loss: 0.6763 - accuracy: 0.5978 - val_loss: 0.6158 - val_accuracy: 0.8509\n",
            "Epoch 2/300\n",
            "15/15 [==============================] - 0s 4ms/step - loss: 0.5679 - accuracy: 0.9165 - val_loss: 0.5212 - val_accuracy: 0.8596\n",
            "Epoch 3/300\n",
            "15/15 [==============================] - 0s 4ms/step - loss: 0.4490 - accuracy: 0.9165 - val_loss: 0.4224 - val_accuracy: 0.8509\n",
            "Epoch 4/300\n",
            "15/15 [==============================] - 0s 5ms/step - loss: 0.3310 - accuracy: 0.9231 - val_loss: 0.3441 - val_accuracy: 0.8509\n",
            "Epoch 5/300\n",
            "15/15 [==============================] - 0s 4ms/step - loss: 0.2457 - accuracy: 0.9231 - val_loss: 0.3028 - val_accuracy: 0.8596\n",
            "Epoch 6/300\n",
            "15/15 [==============================] - 0s 5ms/step - loss: 0.1956 - accuracy: 0.9319 - val_loss: 0.2880 - val_accuracy: 0.8860\n",
            "Epoch 7/300\n",
            "15/15 [==============================] - 0s 4ms/step - loss: 0.1646 - accuracy: 0.9385 - val_loss: 0.2715 - val_accuracy: 0.8947\n",
            "Epoch 8/300\n",
            "15/15 [==============================] - 0s 4ms/step - loss: 0.1453 - accuracy: 0.9473 - val_loss: 0.2593 - val_accuracy: 0.8947\n",
            "Epoch 9/300\n",
            "15/15 [==============================] - 0s 4ms/step - loss: 0.1410 - accuracy: 0.9407 - val_loss: 0.2484 - val_accuracy: 0.9035\n",
            "Epoch 10/300\n",
            "15/15 [==============================] - 0s 5ms/step - loss: 0.1206 - accuracy: 0.9582 - val_loss: 0.2360 - val_accuracy: 0.9123\n",
            "Epoch 11/300\n",
            "15/15 [==============================] - 0s 5ms/step - loss: 0.1067 - accuracy: 0.9604 - val_loss: 0.2282 - val_accuracy: 0.9123\n",
            "Epoch 12/300\n",
            "15/15 [==============================] - 0s 4ms/step - loss: 0.0954 - accuracy: 0.9626 - val_loss: 0.2310 - val_accuracy: 0.9211\n",
            "Epoch 13/300\n",
            "15/15 [==============================] - 0s 5ms/step - loss: 0.0894 - accuracy: 0.9692 - val_loss: 0.2112 - val_accuracy: 0.9211\n",
            "Epoch 14/300\n",
            "15/15 [==============================] - 0s 4ms/step - loss: 0.0946 - accuracy: 0.9604 - val_loss: 0.2168 - val_accuracy: 0.9298\n",
            "Epoch 15/300\n",
            "15/15 [==============================] - 0s 5ms/step - loss: 0.0793 - accuracy: 0.9758 - val_loss: 0.2262 - val_accuracy: 0.9386\n",
            "Epoch 16/300\n",
            "15/15 [==============================] - 0s 4ms/step - loss: 0.0786 - accuracy: 0.9714 - val_loss: 0.1960 - val_accuracy: 0.9386\n",
            "Epoch 17/300\n",
            "15/15 [==============================] - 0s 4ms/step - loss: 0.0744 - accuracy: 0.9736 - val_loss: 0.1993 - val_accuracy: 0.9123\n",
            "Epoch 18/300\n",
            "15/15 [==============================] - 0s 5ms/step - loss: 0.1003 - accuracy: 0.9560 - val_loss: 0.2800 - val_accuracy: 0.9123\n",
            "Epoch 19/300\n",
            "15/15 [==============================] - 0s 4ms/step - loss: 0.0845 - accuracy: 0.9670 - val_loss: 0.1899 - val_accuracy: 0.9386\n",
            "Epoch 20/300\n",
            "15/15 [==============================] - 0s 4ms/step - loss: 0.0698 - accuracy: 0.9714 - val_loss: 0.1887 - val_accuracy: 0.9386\n",
            "Epoch 21/300\n",
            "15/15 [==============================] - 0s 5ms/step - loss: 0.0753 - accuracy: 0.9714 - val_loss: 0.2132 - val_accuracy: 0.9386\n",
            "Epoch 22/300\n",
            "15/15 [==============================] - 0s 5ms/step - loss: 0.0622 - accuracy: 0.9824 - val_loss: 0.1873 - val_accuracy: 0.9386\n",
            "Epoch 23/300\n",
            "15/15 [==============================] - 0s 6ms/step - loss: 0.0593 - accuracy: 0.9846 - val_loss: 0.1954 - val_accuracy: 0.9386\n",
            "Epoch 24/300\n",
            "15/15 [==============================] - 0s 5ms/step - loss: 0.0557 - accuracy: 0.9890 - val_loss: 0.1843 - val_accuracy: 0.9561\n",
            "Epoch 25/300\n",
            "15/15 [==============================] - 0s 5ms/step - loss: 0.0548 - accuracy: 0.9824 - val_loss: 0.1948 - val_accuracy: 0.9386\n",
            "Epoch 26/300\n",
            "15/15 [==============================] - 0s 5ms/step - loss: 0.0521 - accuracy: 0.9868 - val_loss: 0.1811 - val_accuracy: 0.9561\n",
            "Epoch 27/300\n",
            "15/15 [==============================] - 0s 5ms/step - loss: 0.0576 - accuracy: 0.9824 - val_loss: 0.2016 - val_accuracy: 0.9298\n",
            "Epoch 28/300\n",
            "15/15 [==============================] - 0s 5ms/step - loss: 0.0545 - accuracy: 0.9846 - val_loss: 0.1857 - val_accuracy: 0.9474\n",
            "Epoch 29/300\n",
            "15/15 [==============================] - 0s 5ms/step - loss: 0.0512 - accuracy: 0.9846 - val_loss: 0.2006 - val_accuracy: 0.9298\n",
            "Epoch 30/300\n",
            "15/15 [==============================] - 0s 4ms/step - loss: 0.0710 - accuracy: 0.9736 - val_loss: 0.1880 - val_accuracy: 0.9298\n",
            "Epoch 31/300\n",
            "15/15 [==============================] - 0s 4ms/step - loss: 0.0563 - accuracy: 0.9824 - val_loss: 0.1830 - val_accuracy: 0.9474\n",
            "Epoch 32/300\n",
            "15/15 [==============================] - 0s 4ms/step - loss: 0.0476 - accuracy: 0.9868 - val_loss: 0.1857 - val_accuracy: 0.9474\n",
            "Epoch 33/300\n",
            "15/15 [==============================] - 0s 5ms/step - loss: 0.0501 - accuracy: 0.9824 - val_loss: 0.1963 - val_accuracy: 0.9386\n",
            "Epoch 34/300\n",
            "15/15 [==============================] - 0s 4ms/step - loss: 0.0644 - accuracy: 0.9736 - val_loss: 0.1843 - val_accuracy: 0.9386\n",
            "Epoch 35/300\n",
            "15/15 [==============================] - 0s 4ms/step - loss: 0.0569 - accuracy: 0.9802 - val_loss: 0.1780 - val_accuracy: 0.9649\n",
            "Epoch 36/300\n",
            "15/15 [==============================] - 0s 4ms/step - loss: 0.0554 - accuracy: 0.9802 - val_loss: 0.2241 - val_accuracy: 0.9298\n",
            "Epoch 37/300\n",
            "15/15 [==============================] - 0s 5ms/step - loss: 0.0490 - accuracy: 0.9890 - val_loss: 0.1786 - val_accuracy: 0.9649\n",
            "Epoch 38/300\n",
            "15/15 [==============================] - 0s 5ms/step - loss: 0.0448 - accuracy: 0.9868 - val_loss: 0.1761 - val_accuracy: 0.9649\n",
            "Epoch 39/300\n",
            "15/15 [==============================] - 0s 4ms/step - loss: 0.0466 - accuracy: 0.9824 - val_loss: 0.1869 - val_accuracy: 0.9474\n",
            "Epoch 40/300\n",
            "15/15 [==============================] - 0s 4ms/step - loss: 0.0417 - accuracy: 0.9890 - val_loss: 0.1784 - val_accuracy: 0.9737\n",
            "Epoch 41/300\n",
            "15/15 [==============================] - 0s 4ms/step - loss: 0.0426 - accuracy: 0.9868 - val_loss: 0.2077 - val_accuracy: 0.9298\n",
            "Epoch 42/300\n",
            "15/15 [==============================] - 0s 5ms/step - loss: 0.0422 - accuracy: 0.9890 - val_loss: 0.1832 - val_accuracy: 0.9649\n",
            "Epoch 43/300\n",
            "15/15 [==============================] - 0s 6ms/step - loss: 0.0406 - accuracy: 0.9890 - val_loss: 0.1910 - val_accuracy: 0.9474\n",
            "Epoch 44/300\n",
            "15/15 [==============================] - 0s 4ms/step - loss: 0.0399 - accuracy: 0.9846 - val_loss: 0.1877 - val_accuracy: 0.9474\n",
            "Epoch 45/300\n",
            "15/15 [==============================] - 0s 4ms/step - loss: 0.0392 - accuracy: 0.9868 - val_loss: 0.1984 - val_accuracy: 0.9474\n",
            "Epoch 46/300\n",
            "15/15 [==============================] - 0s 5ms/step - loss: 0.0403 - accuracy: 0.9868 - val_loss: 0.1836 - val_accuracy: 0.9649\n",
            "Epoch 47/300\n",
            "15/15 [==============================] - 0s 4ms/step - loss: 0.0433 - accuracy: 0.9846 - val_loss: 0.1838 - val_accuracy: 0.9474\n",
            "Epoch 48/300\n",
            "15/15 [==============================] - 0s 4ms/step - loss: 0.0409 - accuracy: 0.9824 - val_loss: 0.2006 - val_accuracy: 0.9561\n",
            "Epoch 49/300\n",
            "15/15 [==============================] - 0s 5ms/step - loss: 0.0439 - accuracy: 0.9890 - val_loss: 0.1815 - val_accuracy: 0.9649\n",
            "Epoch 50/300\n",
            "15/15 [==============================] - 0s 5ms/step - loss: 0.0368 - accuracy: 0.9868 - val_loss: 0.2017 - val_accuracy: 0.9474\n",
            "Epoch 51/300\n",
            "15/15 [==============================] - 0s 5ms/step - loss: 0.0417 - accuracy: 0.9846 - val_loss: 0.2174 - val_accuracy: 0.9386\n",
            "Epoch 52/300\n",
            "15/15 [==============================] - 0s 4ms/step - loss: 0.0407 - accuracy: 0.9890 - val_loss: 0.1902 - val_accuracy: 0.9561\n",
            "Epoch 53/300\n",
            "15/15 [==============================] - 0s 5ms/step - loss: 0.0412 - accuracy: 0.9868 - val_loss: 0.1887 - val_accuracy: 0.9386\n",
            "Epoch 54/300\n",
            "15/15 [==============================] - 0s 4ms/step - loss: 0.0406 - accuracy: 0.9868 - val_loss: 0.2358 - val_accuracy: 0.9298\n",
            "Epoch 55/300\n",
            "15/15 [==============================] - 0s 4ms/step - loss: 0.0397 - accuracy: 0.9912 - val_loss: 0.1868 - val_accuracy: 0.9649\n",
            "Epoch 56/300\n",
            "15/15 [==============================] - 0s 4ms/step - loss: 0.0372 - accuracy: 0.9868 - val_loss: 0.1841 - val_accuracy: 0.9474\n",
            "Epoch 57/300\n",
            "15/15 [==============================] - 0s 5ms/step - loss: 0.0326 - accuracy: 0.9868 - val_loss: 0.2324 - val_accuracy: 0.9298\n",
            "Epoch 58/300\n",
            "15/15 [==============================] - 0s 5ms/step - loss: 0.0449 - accuracy: 0.9824 - val_loss: 0.1859 - val_accuracy: 0.9649\n",
            "Epoch 59/300\n",
            "15/15 [==============================] - 0s 4ms/step - loss: 0.0451 - accuracy: 0.9802 - val_loss: 0.1854 - val_accuracy: 0.9649\n",
            "Epoch 60/300\n",
            "15/15 [==============================] - 0s 4ms/step - loss: 0.0335 - accuracy: 0.9890 - val_loss: 0.2231 - val_accuracy: 0.9386\n",
            "Epoch 61/300\n",
            "15/15 [==============================] - 0s 5ms/step - loss: 0.0362 - accuracy: 0.9868 - val_loss: 0.2106 - val_accuracy: 0.9561\n",
            "Epoch 62/300\n",
            "15/15 [==============================] - 0s 4ms/step - loss: 0.0349 - accuracy: 0.9890 - val_loss: 0.1920 - val_accuracy: 0.9649\n",
            "Epoch 63/300\n",
            "15/15 [==============================] - 0s 4ms/step - loss: 0.0348 - accuracy: 0.9890 - val_loss: 0.1993 - val_accuracy: 0.9474\n",
            "Epoch 64/300\n",
            "15/15 [==============================] - 0s 6ms/step - loss: 0.0315 - accuracy: 0.9890 - val_loss: 0.2070 - val_accuracy: 0.9561\n",
            "Epoch 65/300\n",
            "15/15 [==============================] - 0s 4ms/step - loss: 0.0375 - accuracy: 0.9890 - val_loss: 0.1878 - val_accuracy: 0.9649\n",
            "Epoch 66/300\n",
            "15/15 [==============================] - 0s 5ms/step - loss: 0.0428 - accuracy: 0.9846 - val_loss: 0.2020 - val_accuracy: 0.9561\n",
            "Epoch 67/300\n",
            "15/15 [==============================] - 0s 4ms/step - loss: 0.0399 - accuracy: 0.9890 - val_loss: 0.2074 - val_accuracy: 0.9561\n",
            "Epoch 68/300\n",
            "15/15 [==============================] - 0s 4ms/step - loss: 0.0340 - accuracy: 0.9912 - val_loss: 0.1984 - val_accuracy: 0.9474\n",
            "Epoch 69/300\n",
            "15/15 [==============================] - 0s 4ms/step - loss: 0.0325 - accuracy: 0.9890 - val_loss: 0.1879 - val_accuracy: 0.9561\n",
            "Epoch 70/300\n",
            "15/15 [==============================] - 0s 4ms/step - loss: 0.0300 - accuracy: 0.9912 - val_loss: 0.1850 - val_accuracy: 0.9649\n",
            "Epoch 71/300\n",
            "15/15 [==============================] - 0s 6ms/step - loss: 0.0351 - accuracy: 0.9890 - val_loss: 0.2323 - val_accuracy: 0.9386\n",
            "Epoch 72/300\n",
            "15/15 [==============================] - 0s 4ms/step - loss: 0.0401 - accuracy: 0.9846 - val_loss: 0.1927 - val_accuracy: 0.9561\n",
            "Epoch 73/300\n",
            "15/15 [==============================] - 0s 4ms/step - loss: 0.0509 - accuracy: 0.9824 - val_loss: 0.1906 - val_accuracy: 0.9649\n",
            "Epoch 74/300\n",
            "15/15 [==============================] - 0s 4ms/step - loss: 0.0327 - accuracy: 0.9912 - val_loss: 0.1868 - val_accuracy: 0.9649\n",
            "Epoch 75/300\n",
            "15/15 [==============================] - 0s 4ms/step - loss: 0.0287 - accuracy: 0.9912 - val_loss: 0.2117 - val_accuracy: 0.9561\n",
            "Epoch 76/300\n",
            "15/15 [==============================] - 0s 4ms/step - loss: 0.0332 - accuracy: 0.9868 - val_loss: 0.1875 - val_accuracy: 0.9649\n",
            "Epoch 77/300\n",
            "15/15 [==============================] - 0s 4ms/step - loss: 0.0321 - accuracy: 0.9890 - val_loss: 0.1901 - val_accuracy: 0.9649\n",
            "Epoch 78/300\n",
            "15/15 [==============================] - 0s 5ms/step - loss: 0.0252 - accuracy: 0.9890 - val_loss: 0.2184 - val_accuracy: 0.9561\n",
            "Epoch 79/300\n",
            "15/15 [==============================] - 0s 4ms/step - loss: 0.0311 - accuracy: 0.9890 - val_loss: 0.1871 - val_accuracy: 0.9649\n",
            "Epoch 80/300\n",
            "15/15 [==============================] - 0s 5ms/step - loss: 0.0255 - accuracy: 0.9912 - val_loss: 0.2084 - val_accuracy: 0.9561\n",
            "Epoch 81/300\n",
            "15/15 [==============================] - 0s 5ms/step - loss: 0.0248 - accuracy: 0.9912 - val_loss: 0.1969 - val_accuracy: 0.9561\n",
            "Epoch 82/300\n",
            "15/15 [==============================] - 0s 4ms/step - loss: 0.0263 - accuracy: 0.9912 - val_loss: 0.2461 - val_accuracy: 0.9386\n",
            "Epoch 83/300\n",
            "15/15 [==============================] - 0s 4ms/step - loss: 0.0276 - accuracy: 0.9912 - val_loss: 0.1915 - val_accuracy: 0.9561\n",
            "Epoch 84/300\n",
            "15/15 [==============================] - 0s 4ms/step - loss: 0.0293 - accuracy: 0.9890 - val_loss: 0.1962 - val_accuracy: 0.9561\n",
            "Epoch 85/300\n",
            "15/15 [==============================] - 0s 5ms/step - loss: 0.0270 - accuracy: 0.9912 - val_loss: 0.2202 - val_accuracy: 0.9561\n",
            "Epoch 86/300\n",
            "15/15 [==============================] - 0s 5ms/step - loss: 0.0224 - accuracy: 0.9934 - val_loss: 0.1950 - val_accuracy: 0.9649\n",
            "Epoch 87/300\n",
            "15/15 [==============================] - 0s 4ms/step - loss: 0.0232 - accuracy: 0.9912 - val_loss: 0.2170 - val_accuracy: 0.9561\n",
            "Epoch 88/300\n",
            "15/15 [==============================] - 0s 5ms/step - loss: 0.0234 - accuracy: 0.9912 - val_loss: 0.1953 - val_accuracy: 0.9561\n",
            "Epoch 89/300\n",
            "15/15 [==============================] - 0s 4ms/step - loss: 0.0259 - accuracy: 0.9912 - val_loss: 0.1986 - val_accuracy: 0.9561\n",
            "Epoch 90/300\n",
            "15/15 [==============================] - 0s 5ms/step - loss: 0.0245 - accuracy: 0.9890 - val_loss: 0.2052 - val_accuracy: 0.9561\n",
            "Epoch 91/300\n",
            "15/15 [==============================] - 0s 5ms/step - loss: 0.0217 - accuracy: 0.9912 - val_loss: 0.2128 - val_accuracy: 0.9561\n",
            "Epoch 92/300\n",
            "15/15 [==============================] - 0s 4ms/step - loss: 0.0219 - accuracy: 0.9934 - val_loss: 0.2013 - val_accuracy: 0.9561\n",
            "Epoch 93/300\n",
            "15/15 [==============================] - 0s 5ms/step - loss: 0.0204 - accuracy: 0.9934 - val_loss: 0.2508 - val_accuracy: 0.9386\n",
            "Epoch 94/300\n",
            "15/15 [==============================] - 0s 4ms/step - loss: 0.0368 - accuracy: 0.9890 - val_loss: 0.1931 - val_accuracy: 0.9649\n",
            "Epoch 95/300\n",
            "15/15 [==============================] - 0s 4ms/step - loss: 0.0364 - accuracy: 0.9868 - val_loss: 0.1874 - val_accuracy: 0.9561\n",
            "Epoch 96/300\n",
            "15/15 [==============================] - 0s 5ms/step - loss: 0.0268 - accuracy: 0.9890 - val_loss: 0.2052 - val_accuracy: 0.9649\n",
            "Epoch 97/300\n",
            "15/15 [==============================] - 0s 5ms/step - loss: 0.0211 - accuracy: 0.9934 - val_loss: 0.2061 - val_accuracy: 0.9561\n",
            "Epoch 98/300\n",
            "15/15 [==============================] - 0s 4ms/step - loss: 0.0222 - accuracy: 0.9912 - val_loss: 0.2148 - val_accuracy: 0.9649\n",
            "Epoch 99/300\n",
            "15/15 [==============================] - 0s 5ms/step - loss: 0.0207 - accuracy: 0.9912 - val_loss: 0.1965 - val_accuracy: 0.9561\n",
            "Epoch 100/300\n",
            "15/15 [==============================] - 0s 5ms/step - loss: 0.0248 - accuracy: 0.9912 - val_loss: 0.2062 - val_accuracy: 0.9561\n",
            "Epoch 101/300\n",
            "15/15 [==============================] - 0s 4ms/step - loss: 0.0197 - accuracy: 0.9956 - val_loss: 0.2039 - val_accuracy: 0.9561\n",
            "Epoch 102/300\n",
            "15/15 [==============================] - 0s 5ms/step - loss: 0.0197 - accuracy: 0.9956 - val_loss: 0.2472 - val_accuracy: 0.9561\n",
            "Epoch 103/300\n",
            "15/15 [==============================] - 0s 4ms/step - loss: 0.0257 - accuracy: 0.9912 - val_loss: 0.2023 - val_accuracy: 0.9561\n",
            "Epoch 104/300\n",
            "15/15 [==============================] - 0s 4ms/step - loss: 0.0224 - accuracy: 0.9934 - val_loss: 0.2130 - val_accuracy: 0.9561\n",
            "Epoch 105/300\n",
            "15/15 [==============================] - 0s 4ms/step - loss: 0.0210 - accuracy: 0.9912 - val_loss: 0.2212 - val_accuracy: 0.9649\n",
            "Epoch 106/300\n",
            "15/15 [==============================] - 0s 4ms/step - loss: 0.0222 - accuracy: 0.9890 - val_loss: 0.2017 - val_accuracy: 0.9298\n",
            "Epoch 107/300\n",
            "15/15 [==============================] - 0s 4ms/step - loss: 0.0229 - accuracy: 0.9912 - val_loss: 0.2192 - val_accuracy: 0.9649\n",
            "Epoch 108/300\n",
            "15/15 [==============================] - 0s 5ms/step - loss: 0.0191 - accuracy: 0.9934 - val_loss: 0.2129 - val_accuracy: 0.9649\n",
            "Epoch 109/300\n",
            "15/15 [==============================] - 0s 5ms/step - loss: 0.0187 - accuracy: 0.9912 - val_loss: 0.2073 - val_accuracy: 0.9561\n",
            "Epoch 110/300\n",
            "15/15 [==============================] - 0s 4ms/step - loss: 0.0162 - accuracy: 0.9956 - val_loss: 0.2246 - val_accuracy: 0.9649\n",
            "Epoch 111/300\n",
            "15/15 [==============================] - 0s 5ms/step - loss: 0.0156 - accuracy: 0.9956 - val_loss: 0.2115 - val_accuracy: 0.9561\n",
            "Epoch 112/300\n",
            "15/15 [==============================] - 0s 4ms/step - loss: 0.0158 - accuracy: 0.9956 - val_loss: 0.2209 - val_accuracy: 0.9649\n",
            "Epoch 113/300\n",
            "15/15 [==============================] - 0s 4ms/step - loss: 0.0161 - accuracy: 0.9934 - val_loss: 0.2317 - val_accuracy: 0.9561\n",
            "Epoch 114/300\n",
            "15/15 [==============================] - 0s 4ms/step - loss: 0.0176 - accuracy: 0.9934 - val_loss: 0.2177 - val_accuracy: 0.9474\n",
            "Epoch 115/300\n",
            "15/15 [==============================] - 0s 5ms/step - loss: 0.0154 - accuracy: 0.9956 - val_loss: 0.2199 - val_accuracy: 0.9561\n",
            "Epoch 116/300\n",
            "15/15 [==============================] - 0s 4ms/step - loss: 0.0144 - accuracy: 0.9978 - val_loss: 0.2375 - val_accuracy: 0.9561\n",
            "Epoch 117/300\n",
            "15/15 [==============================] - 0s 4ms/step - loss: 0.0151 - accuracy: 0.9956 - val_loss: 0.2211 - val_accuracy: 0.9474\n",
            "Epoch 118/300\n",
            "15/15 [==============================] - 0s 4ms/step - loss: 0.0183 - accuracy: 0.9912 - val_loss: 0.2431 - val_accuracy: 0.9561\n",
            "Epoch 119/300\n",
            "15/15 [==============================] - 0s 5ms/step - loss: 0.0149 - accuracy: 0.9956 - val_loss: 0.2300 - val_accuracy: 0.9561\n",
            "Epoch 120/300\n",
            "15/15 [==============================] - 0s 5ms/step - loss: 0.0140 - accuracy: 0.9956 - val_loss: 0.2296 - val_accuracy: 0.9474\n",
            "Epoch 121/300\n",
            "15/15 [==============================] - 0s 5ms/step - loss: 0.0146 - accuracy: 0.9956 - val_loss: 0.2230 - val_accuracy: 0.9474\n",
            "Epoch 122/300\n",
            "15/15 [==============================] - 0s 4ms/step - loss: 0.0150 - accuracy: 0.9956 - val_loss: 0.2277 - val_accuracy: 0.9561\n",
            "Epoch 123/300\n",
            "15/15 [==============================] - 0s 4ms/step - loss: 0.0147 - accuracy: 0.9934 - val_loss: 0.2605 - val_accuracy: 0.9561\n",
            "Epoch 124/300\n",
            "15/15 [==============================] - 0s 5ms/step - loss: 0.0149 - accuracy: 0.9934 - val_loss: 0.2332 - val_accuracy: 0.9386\n",
            "Epoch 125/300\n",
            "15/15 [==============================] - 0s 4ms/step - loss: 0.0145 - accuracy: 0.9934 - val_loss: 0.2397 - val_accuracy: 0.9474\n",
            "Epoch 126/300\n",
            "15/15 [==============================] - 0s 4ms/step - loss: 0.0119 - accuracy: 0.9978 - val_loss: 0.2413 - val_accuracy: 0.9474\n",
            "Epoch 127/300\n",
            "15/15 [==============================] - 0s 5ms/step - loss: 0.0120 - accuracy: 0.9978 - val_loss: 0.2433 - val_accuracy: 0.9474\n",
            "Epoch 128/300\n",
            "15/15 [==============================] - 0s 4ms/step - loss: 0.0122 - accuracy: 0.9934 - val_loss: 0.2439 - val_accuracy: 0.9474\n",
            "Epoch 129/300\n",
            "15/15 [==============================] - 0s 5ms/step - loss: 0.0113 - accuracy: 0.9978 - val_loss: 0.2520 - val_accuracy: 0.9474\n",
            "Epoch 130/300\n",
            "15/15 [==============================] - 0s 5ms/step - loss: 0.0121 - accuracy: 0.9956 - val_loss: 0.2476 - val_accuracy: 0.9474\n",
            "Epoch 131/300\n",
            "15/15 [==============================] - 0s 5ms/step - loss: 0.0108 - accuracy: 0.9978 - val_loss: 0.2573 - val_accuracy: 0.9474\n",
            "Epoch 132/300\n",
            "15/15 [==============================] - 0s 4ms/step - loss: 0.0100 - accuracy: 0.9978 - val_loss: 0.2417 - val_accuracy: 0.9474\n",
            "Epoch 133/300\n",
            "15/15 [==============================] - 0s 6ms/step - loss: 0.0116 - accuracy: 0.9978 - val_loss: 0.2469 - val_accuracy: 0.9474\n",
            "Epoch 134/300\n",
            "15/15 [==============================] - 0s 6ms/step - loss: 0.0102 - accuracy: 0.9978 - val_loss: 0.2539 - val_accuracy: 0.9474\n",
            "Epoch 135/300\n",
            "15/15 [==============================] - 0s 6ms/step - loss: 0.0096 - accuracy: 1.0000 - val_loss: 0.2585 - val_accuracy: 0.9386\n",
            "Epoch 136/300\n",
            "15/15 [==============================] - 0s 6ms/step - loss: 0.0095 - accuracy: 0.9978 - val_loss: 0.2536 - val_accuracy: 0.9474\n",
            "Epoch 137/300\n",
            "15/15 [==============================] - 0s 5ms/step - loss: 0.0096 - accuracy: 1.0000 - val_loss: 0.2893 - val_accuracy: 0.9561\n",
            "Epoch 138/300\n",
            "15/15 [==============================] - 0s 7ms/step - loss: 0.0126 - accuracy: 0.9978 - val_loss: 0.2572 - val_accuracy: 0.9386\n"
          ]
        }
      ]
    },
    {
      "cell_type": "code",
      "source": [
        "model_1.evaluate(X_test_scaled, y_test_encoded)"
      ],
      "metadata": {
        "colab": {
          "base_uri": "https://localhost:8080/"
        },
        "id": "qrTEBVNhCVNi",
        "outputId": "81f2119e-5577-4a16-c483-a39fb2e6c6ac"
      },
      "execution_count": null,
      "outputs": [
        {
          "output_type": "stream",
          "name": "stdout",
          "text": [
            "4/4 [==============================] - 0s 4ms/step - loss: 0.1761 - accuracy: 0.9649\n"
          ]
        },
        {
          "output_type": "execute_result",
          "data": {
            "text/plain": [
              "[0.17610426247119904, 0.9649122953414917]"
            ]
          },
          "metadata": {},
          "execution_count": 41
        }
      ]
    },
    {
      "cell_type": "code",
      "source": [
        "def plot_loss_acc(history):\n",
        "  pd.DataFrame(history.history)[['loss', 'val_loss']].plot()\n",
        "\n",
        "  pd.DataFrame(history.history)[['accuracy', 'val_accuracy']].plot()\n",
        "\n",
        "  plt.show()"
      ],
      "metadata": {
        "id": "sP_xxWPCNAJG"
      },
      "execution_count": null,
      "outputs": []
    },
    {
      "cell_type": "code",
      "source": [
        "plot_loss_acc(history_1)"
      ],
      "metadata": {
        "colab": {
          "base_uri": "https://localhost:8080/",
          "height": 843
        },
        "id": "sNsk-mRTCYI5",
        "outputId": "3e70dfda-378e-44f8-a661-ae028bc44f4d"
      },
      "execution_count": null,
      "outputs": [
        {
          "output_type": "display_data",
          "data": {
            "text/plain": [
              "<Figure size 640x480 with 1 Axes>"
            ],
            "image/png": "[encoded data removed]"
          },
          "metadata": {}
        },
        {
          "output_type": "display_data",
          "data": {
            "text/plain": [
              "<Figure size 640x480 with 1 Axes>"
            ],
            "image/png": "[encoded data removed]"
          },
          "metadata": {}
        }
      ]
    },
    {
      "cell_type": "markdown",
      "source": [
        "### Dense model + normalization layer\n",
        "\n",
        "We won't scale data for our `model_2`, instead we will include normalization layer inside our model.  "
      ],
      "metadata": {
        "id": "Brug2LBiG3gq"
      }
    },
    {
      "cell_type": "code",
      "source": [
        "normalization_layer = tf.keras.layers.Normalization()\n",
        "\n",
        "normalization_layer.adapt(X_train)"
      ],
      "metadata": {
        "id": "jx5P8NeZHTvp"
      },
      "execution_count": null,
      "outputs": []
    },
    {
      "cell_type": "code",
      "source": [
        "inputs = layers.Input(shape=(30,))\n",
        "\n",
        "x = normalization_layer(inputs)\n",
        "\n",
        "x = layers.Dense(units=64, activation='relu')(x)\n",
        "\n",
        "x = layers.Dense(units=128, activation='relu')(x)\n",
        "\n",
        "outputs = layers.Dense(units=1, activation='sigmoid')(x)\n",
        "\n",
        "model_2 = tf.keras.Model(inputs, outputs, name='model_2')"
      ],
      "metadata": {
        "id": "8Zk7IrAmH9Cc"
      },
      "execution_count": null,
      "outputs": []
    },
    {
      "cell_type": "code",
      "source": [
        "model_2.compile(optimizer=tf.keras.optimizers.Adam(learning_rate=0.001),\n",
        "                loss=tf.keras.losses.BinaryCrossentropy(),\n",
        "                metrics=['accuracy'])"
      ],
      "metadata": {
        "id": "yIVGZPLSIIho"
      },
      "execution_count": null,
      "outputs": []
    },
    {
      "cell_type": "code",
      "source": [
        "model_2.summary()"
      ],
      "metadata": {
        "colab": {
          "base_uri": "https://localhost:8080/"
        },
        "id": "dRIn0pg-ITxV",
        "outputId": "523f458d-ce2b-4c54-a768-75016eefab9a"
      },
      "execution_count": null,
      "outputs": [
        {
          "output_type": "stream",
          "name": "stdout",
          "text": [
            "Model: \"model_2\"\n",
            "_________________________________________________________________\n",
            " Layer (type)                Output Shape              Param #   \n",
            "=================================================================\n",
            " input_9 (InputLayer)        [(None, 30)]              0         \n",
            "                                                                 \n",
            " normalization_5 (Normalizat  (None, 30)               61        \n",
            " ion)                                                            \n",
            "                                                                 \n",
            " dense_24 (Dense)            (None, 64)                1984      \n",
            "                                                                 \n",
            " dense_25 (Dense)            (None, 128)               8320      \n",
            "                                                                 \n",
            " dense_26 (Dense)            (None, 1)                 129       \n",
            "                                                                 \n",
            "=================================================================\n",
            "Total params: 10,494\n",
            "Trainable params: 10,433\n",
            "Non-trainable params: 61\n",
            "_________________________________________________________________\n"
          ]
        }
      ]
    },
    {
      "cell_type": "code",
      "source": [
        "early_stop_callback = tf.keras.callbacks.EarlyStopping(patience=100,\n",
        "                                                       restore_best_weights=True)"
      ],
      "metadata": {
        "id": "hqF7C9DxIO5Y"
      },
      "execution_count": null,
      "outputs": []
    },
    {
      "cell_type": "code",
      "source": [
        "history_2 = model_2.fit(x=X_train,\n",
        "                        y=y_train_encoded,\n",
        "                        epochs=300,\n",
        "                        validation_data=(X_test, y_test_encoded),\n",
        "                        callbacks=[early_stop_callback])"
      ],
      "metadata": {
        "colab": {
          "base_uri": "https://localhost:8080/"
        },
        "id": "UUTc2ocgIXsZ",
        "outputId": "10ca177a-7422-4873-96bc-be1d1fa18718"
      },
      "execution_count": null,
      "outputs": [
        {
          "output_type": "stream",
          "name": "stdout",
          "text": [
            "Epoch 1/300\n",
            "15/15 [==============================] - 1s 24ms/step - loss: 0.4176 - accuracy: 0.8703 - val_loss: 0.2250 - val_accuracy: 0.9561\n",
            "Epoch 2/300\n",
            "15/15 [==============================] - 0s 6ms/step - loss: 0.1675 - accuracy: 0.9560 - val_loss: 0.1449 - val_accuracy: 0.9561\n",
            "Epoch 3/300\n",
            "15/15 [==============================] - 0s 6ms/step - loss: 0.1022 - accuracy: 0.9780 - val_loss: 0.1207 - val_accuracy: 0.9737\n",
            "Epoch 4/300\n",
            "15/15 [==============================] - 0s 7ms/step - loss: 0.0769 - accuracy: 0.9802 - val_loss: 0.1127 - val_accuracy: 0.9649\n",
            "Epoch 5/300\n",
            "15/15 [==============================] - 0s 7ms/step - loss: 0.0639 - accuracy: 0.9824 - val_loss: 0.1029 - val_accuracy: 0.9649\n",
            "Epoch 6/300\n",
            "15/15 [==============================] - 0s 7ms/step - loss: 0.0552 - accuracy: 0.9868 - val_loss: 0.0976 - val_accuracy: 0.9649\n",
            "Epoch 7/300\n",
            "15/15 [==============================] - 0s 7ms/step - loss: 0.0497 - accuracy: 0.9890 - val_loss: 0.0995 - val_accuracy: 0.9649\n",
            "Epoch 8/300\n",
            "15/15 [==============================] - 0s 9ms/step - loss: 0.0455 - accuracy: 0.9890 - val_loss: 0.0956 - val_accuracy: 0.9737\n",
            "Epoch 9/300\n",
            "15/15 [==============================] - 0s 7ms/step - loss: 0.0409 - accuracy: 0.9890 - val_loss: 0.0964 - val_accuracy: 0.9737\n",
            "Epoch 10/300\n",
            "15/15 [==============================] - 0s 5ms/step - loss: 0.0376 - accuracy: 0.9912 - val_loss: 0.0969 - val_accuracy: 0.9649\n",
            "Epoch 11/300\n",
            "15/15 [==============================] - 0s 5ms/step - loss: 0.0342 - accuracy: 0.9912 - val_loss: 0.0965 - val_accuracy: 0.9737\n",
            "Epoch 12/300\n",
            "15/15 [==============================] - 0s 6ms/step - loss: 0.0317 - accuracy: 0.9912 - val_loss: 0.0992 - val_accuracy: 0.9737\n",
            "Epoch 13/300\n",
            "15/15 [==============================] - 0s 7ms/step - loss: 0.0298 - accuracy: 0.9934 - val_loss: 0.0961 - val_accuracy: 0.9649\n",
            "Epoch 14/300\n",
            "15/15 [==============================] - 0s 8ms/step - loss: 0.0284 - accuracy: 0.9934 - val_loss: 0.1110 - val_accuracy: 0.9561\n",
            "Epoch 15/300\n",
            "15/15 [==============================] - 0s 6ms/step - loss: 0.0247 - accuracy: 0.9912 - val_loss: 0.0948 - val_accuracy: 0.9649\n",
            "Epoch 16/300\n",
            "15/15 [==============================] - 0s 7ms/step - loss: 0.0225 - accuracy: 0.9934 - val_loss: 0.1061 - val_accuracy: 0.9649\n",
            "Epoch 17/300\n",
            "15/15 [==============================] - 0s 7ms/step - loss: 0.0188 - accuracy: 0.9934 - val_loss: 0.1112 - val_accuracy: 0.9561\n",
            "Epoch 18/300\n",
            "15/15 [==============================] - 0s 5ms/step - loss: 0.0174 - accuracy: 0.9956 - val_loss: 0.1074 - val_accuracy: 0.9649\n",
            "Epoch 19/300\n",
            "15/15 [==============================] - 0s 5ms/step - loss: 0.0154 - accuracy: 0.9956 - val_loss: 0.1144 - val_accuracy: 0.9561\n",
            "Epoch 20/300\n",
            "15/15 [==============================] - 0s 5ms/step - loss: 0.0139 - accuracy: 0.9934 - val_loss: 0.1122 - val_accuracy: 0.9649\n",
            "Epoch 21/300\n",
            "15/15 [==============================] - 0s 5ms/step - loss: 0.0127 - accuracy: 0.9978 - val_loss: 0.1120 - val_accuracy: 0.9649\n",
            "Epoch 22/300\n",
            "15/15 [==============================] - 0s 6ms/step - loss: 0.0117 - accuracy: 0.9978 - val_loss: 0.1117 - val_accuracy: 0.9649\n",
            "Epoch 23/300\n",
            "15/15 [==============================] - 0s 4ms/step - loss: 0.0104 - accuracy: 0.9978 - val_loss: 0.1172 - val_accuracy: 0.9649\n",
            "Epoch 24/300\n",
            "15/15 [==============================] - 0s 5ms/step - loss: 0.0099 - accuracy: 1.0000 - val_loss: 0.1162 - val_accuracy: 0.9649\n",
            "Epoch 25/300\n",
            "15/15 [==============================] - 0s 5ms/step - loss: 0.0092 - accuracy: 1.0000 - val_loss: 0.1185 - val_accuracy: 0.9649\n",
            "Epoch 26/300\n",
            "15/15 [==============================] - 0s 5ms/step - loss: 0.0079 - accuracy: 1.0000 - val_loss: 0.1228 - val_accuracy: 0.9649\n",
            "Epoch 27/300\n",
            "15/15 [==============================] - 0s 4ms/step - loss: 0.0072 - accuracy: 1.0000 - val_loss: 0.1263 - val_accuracy: 0.9649\n",
            "Epoch 28/300\n",
            "15/15 [==============================] - 0s 5ms/step - loss: 0.0067 - accuracy: 1.0000 - val_loss: 0.1307 - val_accuracy: 0.9649\n",
            "Epoch 29/300\n",
            "15/15 [==============================] - 0s 5ms/step - loss: 0.0065 - accuracy: 1.0000 - val_loss: 0.1360 - val_accuracy: 0.9649\n",
            "Epoch 30/300\n",
            "15/15 [==============================] - 0s 5ms/step - loss: 0.0058 - accuracy: 1.0000 - val_loss: 0.1328 - val_accuracy: 0.9649\n",
            "Epoch 31/300\n",
            "15/15 [==============================] - 0s 5ms/step - loss: 0.0051 - accuracy: 1.0000 - val_loss: 0.1389 - val_accuracy: 0.9649\n",
            "Epoch 32/300\n",
            "15/15 [==============================] - 0s 5ms/step - loss: 0.0047 - accuracy: 1.0000 - val_loss: 0.1395 - val_accuracy: 0.9649\n",
            "Epoch 33/300\n",
            "15/15 [==============================] - 0s 5ms/step - loss: 0.0044 - accuracy: 1.0000 - val_loss: 0.1392 - val_accuracy: 0.9649\n",
            "Epoch 34/300\n",
            "15/15 [==============================] - 0s 4ms/step - loss: 0.0040 - accuracy: 1.0000 - val_loss: 0.1437 - val_accuracy: 0.9649\n",
            "Epoch 35/300\n",
            "15/15 [==============================] - 0s 4ms/step - loss: 0.0038 - accuracy: 1.0000 - val_loss: 0.1717 - val_accuracy: 0.9474\n",
            "Epoch 36/300\n",
            "15/15 [==============================] - 0s 5ms/step - loss: 0.0043 - accuracy: 1.0000 - val_loss: 0.1512 - val_accuracy: 0.9649\n",
            "Epoch 37/300\n",
            "15/15 [==============================] - 0s 4ms/step - loss: 0.0036 - accuracy: 1.0000 - val_loss: 0.1479 - val_accuracy: 0.9649\n",
            "Epoch 38/300\n",
            "15/15 [==============================] - 0s 5ms/step - loss: 0.0029 - accuracy: 1.0000 - val_loss: 0.1523 - val_accuracy: 0.9649\n",
            "Epoch 39/300\n",
            "15/15 [==============================] - 0s 4ms/step - loss: 0.0027 - accuracy: 1.0000 - val_loss: 0.1547 - val_accuracy: 0.9649\n",
            "Epoch 40/300\n",
            "15/15 [==============================] - 0s 5ms/step - loss: 0.0025 - accuracy: 1.0000 - val_loss: 0.1536 - val_accuracy: 0.9649\n",
            "Epoch 41/300\n",
            "15/15 [==============================] - 0s 4ms/step - loss: 0.0024 - accuracy: 1.0000 - val_loss: 0.1585 - val_accuracy: 0.9649\n",
            "Epoch 42/300\n",
            "15/15 [==============================] - 0s 4ms/step - loss: 0.0022 - accuracy: 1.0000 - val_loss: 0.1606 - val_accuracy: 0.9649\n",
            "Epoch 43/300\n",
            "15/15 [==============================] - 0s 4ms/step - loss: 0.0021 - accuracy: 1.0000 - val_loss: 0.1643 - val_accuracy: 0.9561\n",
            "Epoch 44/300\n",
            "15/15 [==============================] - 0s 4ms/step - loss: 0.0021 - accuracy: 1.0000 - val_loss: 0.1695 - val_accuracy: 0.9649\n",
            "Epoch 45/300\n",
            "15/15 [==============================] - 0s 4ms/step - loss: 0.0020 - accuracy: 1.0000 - val_loss: 0.1692 - val_accuracy: 0.9561\n",
            "Epoch 46/300\n",
            "15/15 [==============================] - 0s 5ms/step - loss: 0.0017 - accuracy: 1.0000 - val_loss: 0.1735 - val_accuracy: 0.9561\n",
            "Epoch 47/300\n",
            "15/15 [==============================] - 0s 5ms/step - loss: 0.0017 - accuracy: 1.0000 - val_loss: 0.1768 - val_accuracy: 0.9561\n",
            "Epoch 48/300\n",
            "15/15 [==============================] - 0s 4ms/step - loss: 0.0016 - accuracy: 1.0000 - val_loss: 0.1744 - val_accuracy: 0.9561\n",
            "Epoch 49/300\n",
            "15/15 [==============================] - 0s 5ms/step - loss: 0.0015 - accuracy: 1.0000 - val_loss: 0.1838 - val_accuracy: 0.9561\n",
            "Epoch 50/300\n",
            "15/15 [==============================] - 0s 4ms/step - loss: 0.0014 - accuracy: 1.0000 - val_loss: 0.1839 - val_accuracy: 0.9561\n",
            "Epoch 51/300\n",
            "15/15 [==============================] - 0s 4ms/step - loss: 0.0014 - accuracy: 1.0000 - val_loss: 0.1861 - val_accuracy: 0.9561\n",
            "Epoch 52/300\n",
            "15/15 [==============================] - 0s 5ms/step - loss: 0.0016 - accuracy: 1.0000 - val_loss: 0.1793 - val_accuracy: 0.9561\n",
            "Epoch 53/300\n",
            "15/15 [==============================] - 0s 6ms/step - loss: 0.0015 - accuracy: 1.0000 - val_loss: 0.1840 - val_accuracy: 0.9561\n",
            "Epoch 54/300\n",
            "15/15 [==============================] - 0s 5ms/step - loss: 0.0012 - accuracy: 1.0000 - val_loss: 0.1968 - val_accuracy: 0.9386\n",
            "Epoch 55/300\n",
            "15/15 [==============================] - 0s 5ms/step - loss: 0.0012 - accuracy: 1.0000 - val_loss: 0.1951 - val_accuracy: 0.9474\n",
            "Epoch 56/300\n",
            "15/15 [==============================] - 0s 5ms/step - loss: 0.0010 - accuracy: 1.0000 - val_loss: 0.1979 - val_accuracy: 0.9561\n",
            "Epoch 57/300\n",
            "15/15 [==============================] - 0s 4ms/step - loss: 0.0010 - accuracy: 1.0000 - val_loss: 0.1964 - val_accuracy: 0.9561\n",
            "Epoch 58/300\n",
            "15/15 [==============================] - 0s 5ms/step - loss: 9.5646e-04 - accuracy: 1.0000 - val_loss: 0.2004 - val_accuracy: 0.9561\n",
            "Epoch 59/300\n",
            "15/15 [==============================] - 0s 4ms/step - loss: 9.2917e-04 - accuracy: 1.0000 - val_loss: 0.2036 - val_accuracy: 0.9561\n",
            "Epoch 60/300\n",
            "15/15 [==============================] - 0s 4ms/step - loss: 8.8340e-04 - accuracy: 1.0000 - val_loss: 0.2037 - val_accuracy: 0.9561\n",
            "Epoch 61/300\n",
            "15/15 [==============================] - 0s 4ms/step - loss: 8.7473e-04 - accuracy: 1.0000 - val_loss: 0.2059 - val_accuracy: 0.9561\n",
            "Epoch 62/300\n",
            "15/15 [==============================] - 0s 4ms/step - loss: 8.4692e-04 - accuracy: 1.0000 - val_loss: 0.2104 - val_accuracy: 0.9561\n",
            "Epoch 63/300\n",
            "15/15 [==============================] - 0s 5ms/step - loss: 7.8757e-04 - accuracy: 1.0000 - val_loss: 0.2113 - val_accuracy: 0.9561\n",
            "Epoch 64/300\n",
            "15/15 [==============================] - 0s 5ms/step - loss: 7.3749e-04 - accuracy: 1.0000 - val_loss: 0.2142 - val_accuracy: 0.9561\n",
            "Epoch 65/300\n",
            "15/15 [==============================] - 0s 5ms/step - loss: 7.1563e-04 - accuracy: 1.0000 - val_loss: 0.2174 - val_accuracy: 0.9561\n",
            "Epoch 66/300\n",
            "15/15 [==============================] - 0s 4ms/step - loss: 6.6719e-04 - accuracy: 1.0000 - val_loss: 0.2183 - val_accuracy: 0.9561\n",
            "Epoch 67/300\n",
            "15/15 [==============================] - 0s 4ms/step - loss: 6.4489e-04 - accuracy: 1.0000 - val_loss: 0.2192 - val_accuracy: 0.9561\n",
            "Epoch 68/300\n",
            "15/15 [==============================] - 0s 5ms/step - loss: 6.3555e-04 - accuracy: 1.0000 - val_loss: 0.2200 - val_accuracy: 0.9561\n",
            "Epoch 69/300\n",
            "15/15 [==============================] - 0s 4ms/step - loss: 6.2011e-04 - accuracy: 1.0000 - val_loss: 0.2217 - val_accuracy: 0.9561\n",
            "Epoch 70/300\n",
            "15/15 [==============================] - 0s 4ms/step - loss: 6.2029e-04 - accuracy: 1.0000 - val_loss: 0.2198 - val_accuracy: 0.9561\n",
            "Epoch 71/300\n",
            "15/15 [==============================] - 0s 4ms/step - loss: 5.7434e-04 - accuracy: 1.0000 - val_loss: 0.2248 - val_accuracy: 0.9561\n",
            "Epoch 72/300\n",
            "15/15 [==============================] - 0s 5ms/step - loss: 5.2885e-04 - accuracy: 1.0000 - val_loss: 0.2277 - val_accuracy: 0.9561\n",
            "Epoch 73/300\n",
            "15/15 [==============================] - 0s 4ms/step - loss: 5.2383e-04 - accuracy: 1.0000 - val_loss: 0.2342 - val_accuracy: 0.9561\n",
            "Epoch 74/300\n",
            "15/15 [==============================] - 0s 5ms/step - loss: 4.8774e-04 - accuracy: 1.0000 - val_loss: 0.2448 - val_accuracy: 0.9561\n",
            "Epoch 75/300\n",
            "15/15 [==============================] - 0s 5ms/step - loss: 5.0662e-04 - accuracy: 1.0000 - val_loss: 0.2405 - val_accuracy: 0.9561\n",
            "Epoch 76/300\n",
            "15/15 [==============================] - 0s 4ms/step - loss: 4.5894e-04 - accuracy: 1.0000 - val_loss: 0.2404 - val_accuracy: 0.9561\n",
            "Epoch 77/300\n",
            "15/15 [==============================] - 0s 4ms/step - loss: 4.4538e-04 - accuracy: 1.0000 - val_loss: 0.2391 - val_accuracy: 0.9561\n",
            "Epoch 78/300\n",
            "15/15 [==============================] - 0s 6ms/step - loss: 4.1981e-04 - accuracy: 1.0000 - val_loss: 0.2360 - val_accuracy: 0.9561\n",
            "Epoch 79/300\n",
            "15/15 [==============================] - 0s 5ms/step - loss: 4.2770e-04 - accuracy: 1.0000 - val_loss: 0.2411 - val_accuracy: 0.9561\n",
            "Epoch 80/300\n",
            "15/15 [==============================] - 0s 5ms/step - loss: 4.1023e-04 - accuracy: 1.0000 - val_loss: 0.2444 - val_accuracy: 0.9561\n",
            "Epoch 81/300\n",
            "15/15 [==============================] - 0s 4ms/step - loss: 3.8435e-04 - accuracy: 1.0000 - val_loss: 0.2488 - val_accuracy: 0.9561\n",
            "Epoch 82/300\n",
            "15/15 [==============================] - 0s 4ms/step - loss: 3.6661e-04 - accuracy: 1.0000 - val_loss: 0.2504 - val_accuracy: 0.9561\n",
            "Epoch 83/300\n",
            "15/15 [==============================] - 0s 4ms/step - loss: 3.6904e-04 - accuracy: 1.0000 - val_loss: 0.2525 - val_accuracy: 0.9561\n",
            "Epoch 84/300\n",
            "15/15 [==============================] - 0s 6ms/step - loss: 3.4533e-04 - accuracy: 1.0000 - val_loss: 0.2532 - val_accuracy: 0.9561\n",
            "Epoch 85/300\n",
            "15/15 [==============================] - 0s 4ms/step - loss: 3.4294e-04 - accuracy: 1.0000 - val_loss: 0.2556 - val_accuracy: 0.9561\n",
            "Epoch 86/300\n",
            "15/15 [==============================] - 0s 4ms/step - loss: 3.4088e-04 - accuracy: 1.0000 - val_loss: 0.2553 - val_accuracy: 0.9561\n",
            "Epoch 87/300\n",
            "15/15 [==============================] - 0s 5ms/step - loss: 3.2884e-04 - accuracy: 1.0000 - val_loss: 0.2574 - val_accuracy: 0.9561\n",
            "Epoch 88/300\n",
            "15/15 [==============================] - 0s 4ms/step - loss: 3.2013e-04 - accuracy: 1.0000 - val_loss: 0.2604 - val_accuracy: 0.9561\n",
            "Epoch 89/300\n",
            "15/15 [==============================] - 0s 5ms/step - loss: 3.0380e-04 - accuracy: 1.0000 - val_loss: 0.2598 - val_accuracy: 0.9561\n",
            "Epoch 90/300\n",
            "15/15 [==============================] - 0s 5ms/step - loss: 3.0922e-04 - accuracy: 1.0000 - val_loss: 0.2576 - val_accuracy: 0.9561\n",
            "Epoch 91/300\n",
            "15/15 [==============================] - 0s 4ms/step - loss: 3.0230e-04 - accuracy: 1.0000 - val_loss: 0.2615 - val_accuracy: 0.9561\n",
            "Epoch 92/300\n",
            "15/15 [==============================] - 0s 4ms/step - loss: 2.7541e-04 - accuracy: 1.0000 - val_loss: 0.2652 - val_accuracy: 0.9561\n",
            "Epoch 93/300\n",
            "15/15 [==============================] - 0s 4ms/step - loss: 2.7058e-04 - accuracy: 1.0000 - val_loss: 0.2659 - val_accuracy: 0.9561\n",
            "Epoch 94/300\n",
            "15/15 [==============================] - 0s 4ms/step - loss: 2.6267e-04 - accuracy: 1.0000 - val_loss: 0.2678 - val_accuracy: 0.9561\n",
            "Epoch 95/300\n",
            "15/15 [==============================] - 0s 4ms/step - loss: 2.5799e-04 - accuracy: 1.0000 - val_loss: 0.2685 - val_accuracy: 0.9561\n",
            "Epoch 96/300\n",
            "15/15 [==============================] - 0s 4ms/step - loss: 2.5129e-04 - accuracy: 1.0000 - val_loss: 0.2712 - val_accuracy: 0.9561\n",
            "Epoch 97/300\n",
            "15/15 [==============================] - 0s 4ms/step - loss: 2.4411e-04 - accuracy: 1.0000 - val_loss: 0.2724 - val_accuracy: 0.9561\n",
            "Epoch 98/300\n",
            "15/15 [==============================] - 0s 4ms/step - loss: 2.3651e-04 - accuracy: 1.0000 - val_loss: 0.2732 - val_accuracy: 0.9561\n",
            "Epoch 99/300\n",
            "15/15 [==============================] - 0s 5ms/step - loss: 2.3000e-04 - accuracy: 1.0000 - val_loss: 0.2782 - val_accuracy: 0.9561\n",
            "Epoch 100/300\n",
            "15/15 [==============================] - 0s 4ms/step - loss: 2.3051e-04 - accuracy: 1.0000 - val_loss: 0.2805 - val_accuracy: 0.9561\n",
            "Epoch 101/300\n",
            "15/15 [==============================] - 0s 4ms/step - loss: 2.2271e-04 - accuracy: 1.0000 - val_loss: 0.2794 - val_accuracy: 0.9561\n",
            "Epoch 102/300\n",
            "15/15 [==============================] - 0s 4ms/step - loss: 2.1775e-04 - accuracy: 1.0000 - val_loss: 0.2820 - val_accuracy: 0.9561\n",
            "Epoch 103/300\n",
            "15/15 [==============================] - 0s 4ms/step - loss: 2.1424e-04 - accuracy: 1.0000 - val_loss: 0.2801 - val_accuracy: 0.9561\n",
            "Epoch 104/300\n",
            "15/15 [==============================] - 0s 4ms/step - loss: 2.0284e-04 - accuracy: 1.0000 - val_loss: 0.2805 - val_accuracy: 0.9561\n",
            "Epoch 105/300\n",
            "15/15 [==============================] - 0s 4ms/step - loss: 2.0305e-04 - accuracy: 1.0000 - val_loss: 0.2823 - val_accuracy: 0.9561\n",
            "Epoch 106/300\n",
            "15/15 [==============================] - 0s 4ms/step - loss: 1.9481e-04 - accuracy: 1.0000 - val_loss: 0.2841 - val_accuracy: 0.9561\n",
            "Epoch 107/300\n",
            "15/15 [==============================] - 0s 4ms/step - loss: 1.9004e-04 - accuracy: 1.0000 - val_loss: 0.2855 - val_accuracy: 0.9561\n",
            "Epoch 108/300\n",
            "15/15 [==============================] - 0s 4ms/step - loss: 1.9245e-04 - accuracy: 1.0000 - val_loss: 0.2865 - val_accuracy: 0.9561\n",
            "Epoch 109/300\n",
            "15/15 [==============================] - 0s 4ms/step - loss: 1.8291e-04 - accuracy: 1.0000 - val_loss: 0.2890 - val_accuracy: 0.9561\n",
            "Epoch 110/300\n",
            "15/15 [==============================] - 0s 5ms/step - loss: 1.7838e-04 - accuracy: 1.0000 - val_loss: 0.2915 - val_accuracy: 0.9561\n",
            "Epoch 111/300\n",
            "15/15 [==============================] - 0s 5ms/step - loss: 1.7596e-04 - accuracy: 1.0000 - val_loss: 0.2923 - val_accuracy: 0.9561\n",
            "Epoch 112/300\n",
            "15/15 [==============================] - 0s 5ms/step - loss: 1.6779e-04 - accuracy: 1.0000 - val_loss: 0.2927 - val_accuracy: 0.9561\n",
            "Epoch 113/300\n",
            "15/15 [==============================] - 0s 4ms/step - loss: 1.6577e-04 - accuracy: 1.0000 - val_loss: 0.2928 - val_accuracy: 0.9561\n",
            "Epoch 114/300\n",
            "15/15 [==============================] - 0s 4ms/step - loss: 1.6109e-04 - accuracy: 1.0000 - val_loss: 0.2951 - val_accuracy: 0.9561\n",
            "Epoch 115/300\n",
            "15/15 [==============================] - 0s 5ms/step - loss: 1.5751e-04 - accuracy: 1.0000 - val_loss: 0.2954 - val_accuracy: 0.9561\n"
          ]
        }
      ]
    },
    {
      "cell_type": "code",
      "source": [
        "model_2.evaluate(X_test, y_test_encoded)"
      ],
      "metadata": {
        "colab": {
          "base_uri": "https://localhost:8080/"
        },
        "id": "84bZmtzEIjBJ",
        "outputId": "a292b1d0-de85-45ae-dfc5-6ebb8165a84e"
      },
      "execution_count": null,
      "outputs": [
        {
          "output_type": "stream",
          "name": "stdout",
          "text": [
            "4/4 [==============================] - 0s 4ms/step - loss: 0.0948 - accuracy: 0.9649\n"
          ]
        },
        {
          "output_type": "execute_result",
          "data": {
            "text/plain": [
              "[0.0948377177119255, 0.9649122953414917]"
            ]
          },
          "metadata": {},
          "execution_count": 102
        }
      ]
    },
    {
      "cell_type": "code",
      "source": [
        "plot_loss_acc(history_2)"
      ],
      "metadata": {
        "colab": {
          "base_uri": "https://localhost:8080/",
          "height": 843
        },
        "id": "5T_hHftaNGyU",
        "outputId": "d7e49a55-c877-44e3-fafc-6ff5f14e738a"
      },
      "execution_count": null,
      "outputs": [
        {
          "output_type": "display_data",
          "data": {
            "text/plain": [
              "<Figure size 640x480 with 1 Axes>"
            ],
            "image/png": "[encoded data removed]"
          },
          "metadata": {}
        },
        {
          "output_type": "display_data",
          "data": {
            "text/plain": [
              "<Figure size 640x480 with 1 Axes>"
            ],
            "image/png": "[encoded data removed]"
          },
          "metadata": {}
        }
      ]
    },
    {
      "cell_type": "markdown",
      "source": [
        "### Dense model + normalization layer + regularization layer\n",
        "\n",
        "Our `model_2` performs better tham `model_1` but it overfits on the train data.\n",
        "\n",
        "In `model_3` we will lower number of parameters/weights and add regularization layer (`tf.keras.layers.Dropout`)."
      ],
      "metadata": {
        "id": "r_k8SajCKwB3"
      }
    },
    {
      "cell_type": "code",
      "source": [
        "normalization_layer = tf.keras.layers.Normalization()\n",
        "\n",
        "normalization_layer.adapt(X_train)"
      ],
      "metadata": {
        "id": "8m95itHSK_Yt"
      },
      "execution_count": null,
      "outputs": []
    },
    {
      "cell_type": "code",
      "source": [
        "inputs = layers.Input(shape=(30,))\n",
        "\n",
        "x = normalization_layer(inputs)\n",
        "\n",
        "x = layers.Dense(units=16, activation='relu')(x)\n",
        "\n",
        "x = layers.Dense(units=32, activation='relu')(x)\n",
        "\n",
        "x = layers.Dropout(0.6)(x)\n",
        "\n",
        "outputs = layers.Dense(units=1, activation='sigmoid')(x)\n",
        "\n",
        "model_3 = tf.keras.Model(inputs, outputs, name='model_3')"
      ],
      "metadata": {
        "id": "Rsz81oBLK639"
      },
      "execution_count": null,
      "outputs": []
    },
    {
      "cell_type": "code",
      "source": [
        "model_3.compile(optimizer=tf.keras.optimizers.Adam(learning_rate=0.001),\n",
        "                loss=tf.keras.losses.BinaryCrossentropy(),\n",
        "                metrics=['accuracy'])"
      ],
      "metadata": {
        "id": "HSXxva3WLCLK"
      },
      "execution_count": null,
      "outputs": []
    },
    {
      "cell_type": "code",
      "source": [
        "model_3.summary()"
      ],
      "metadata": {
        "colab": {
          "base_uri": "https://localhost:8080/"
        },
        "id": "mhXH-AXPLFyF",
        "outputId": "5e9cf96a-7c59-4a13-9a27-fce0bd744f82"
      },
      "execution_count": null,
      "outputs": [
        {
          "output_type": "stream",
          "name": "stdout",
          "text": [
            "Model: \"model_3\"\n",
            "_________________________________________________________________\n",
            " Layer (type)                Output Shape              Param #   \n",
            "=================================================================\n",
            " input_19 (InputLayer)       [(None, 30)]              0         \n",
            "                                                                 \n",
            " normalization_15 (Normaliza  (None, 30)               61        \n",
            " tion)                                                           \n",
            "                                                                 \n",
            " dense_54 (Dense)            (None, 16)                496       \n",
            "                                                                 \n",
            " dense_55 (Dense)            (None, 32)                544       \n",
            "                                                                 \n",
            " dropout_11 (Dropout)        (None, 32)                0         \n",
            "                                                                 \n",
            " dense_56 (Dense)            (None, 1)                 33        \n",
            "                                                                 \n",
            "=================================================================\n",
            "Total params: 1,134\n",
            "Trainable params: 1,073\n",
            "Non-trainable params: 61\n",
            "_________________________________________________________________\n"
          ]
        }
      ]
    },
    {
      "cell_type": "code",
      "source": [
        "early_stop_callback = tf.keras.callbacks.EarlyStopping(patience=100,\n",
        "                                                       restore_best_weights=True)"
      ],
      "metadata": {
        "id": "bI3Nmgr4MdGW"
      },
      "execution_count": null,
      "outputs": []
    },
    {
      "cell_type": "code",
      "source": [
        "history_3 = model_3.fit(x=X_train,\n",
        "                        y=y_train_encoded,\n",
        "                        epochs=300,\n",
        "                        validation_data=(X_test, y_test_encoded),\n",
        "                        callbacks=[early_stop_callback])"
      ],
      "metadata": {
        "colab": {
          "base_uri": "https://localhost:8080/"
        },
        "id": "tmVoFLl7LKvb",
        "outputId": "ee50b99e-6478-4698-85eb-a693d6f8de29"
      },
      "execution_count": null,
      "outputs": [
        {
          "output_type": "stream",
          "name": "stdout",
          "text": [
            "Epoch 1/300\n",
            "15/15 [==============================] - 2s 25ms/step - loss: 0.6274 - accuracy: 0.6220 - val_loss: 0.5209 - val_accuracy: 0.8246\n",
            "Epoch 2/300\n",
            "15/15 [==============================] - 0s 7ms/step - loss: 0.5028 - accuracy: 0.7868 - val_loss: 0.4117 - val_accuracy: 0.9474\n",
            "Epoch 3/300\n",
            "15/15 [==============================] - 0s 7ms/step - loss: 0.4274 - accuracy: 0.8352 - val_loss: 0.3275 - val_accuracy: 0.9737\n",
            "Epoch 4/300\n",
            "15/15 [==============================] - 0s 7ms/step - loss: 0.3541 - accuracy: 0.8791 - val_loss: 0.2624 - val_accuracy: 0.9737\n",
            "Epoch 5/300\n",
            "15/15 [==============================] - 0s 6ms/step - loss: 0.2787 - accuracy: 0.9121 - val_loss: 0.2197 - val_accuracy: 0.9737\n",
            "Epoch 6/300\n",
            "15/15 [==============================] - 0s 7ms/step - loss: 0.2425 - accuracy: 0.9407 - val_loss: 0.1879 - val_accuracy: 0.9737\n",
            "Epoch 7/300\n",
            "15/15 [==============================] - 0s 7ms/step - loss: 0.2419 - accuracy: 0.9429 - val_loss: 0.1642 - val_accuracy: 0.9737\n",
            "Epoch 8/300\n",
            "15/15 [==============================] - 0s 5ms/step - loss: 0.2046 - accuracy: 0.9385 - val_loss: 0.1516 - val_accuracy: 0.9737\n",
            "Epoch 9/300\n",
            "15/15 [==============================] - 0s 5ms/step - loss: 0.1706 - accuracy: 0.9538 - val_loss: 0.1404 - val_accuracy: 0.9737\n",
            "Epoch 10/300\n",
            "15/15 [==============================] - 0s 4ms/step - loss: 0.1628 - accuracy: 0.9538 - val_loss: 0.1318 - val_accuracy: 0.9737\n",
            "Epoch 11/300\n",
            "15/15 [==============================] - 0s 4ms/step - loss: 0.1482 - accuracy: 0.9604 - val_loss: 0.1255 - val_accuracy: 0.9649\n",
            "Epoch 12/300\n",
            "15/15 [==============================] - 0s 5ms/step - loss: 0.1396 - accuracy: 0.9692 - val_loss: 0.1192 - val_accuracy: 0.9649\n",
            "Epoch 13/300\n",
            "15/15 [==============================] - 0s 6ms/step - loss: 0.1343 - accuracy: 0.9648 - val_loss: 0.1140 - val_accuracy: 0.9649\n",
            "Epoch 14/300\n",
            "15/15 [==============================] - 0s 4ms/step - loss: 0.1199 - accuracy: 0.9692 - val_loss: 0.1117 - val_accuracy: 0.9649\n",
            "Epoch 15/300\n",
            "15/15 [==============================] - 0s 6ms/step - loss: 0.1170 - accuracy: 0.9648 - val_loss: 0.1087 - val_accuracy: 0.9649\n",
            "Epoch 16/300\n",
            "15/15 [==============================] - 0s 4ms/step - loss: 0.1185 - accuracy: 0.9714 - val_loss: 0.1054 - val_accuracy: 0.9649\n",
            "Epoch 17/300\n",
            "15/15 [==============================] - 0s 4ms/step - loss: 0.1134 - accuracy: 0.9736 - val_loss: 0.1037 - val_accuracy: 0.9649\n",
            "Epoch 18/300\n",
            "15/15 [==============================] - 0s 5ms/step - loss: 0.0991 - accuracy: 0.9802 - val_loss: 0.1027 - val_accuracy: 0.9649\n",
            "Epoch 19/300\n",
            "15/15 [==============================] - 0s 5ms/step - loss: 0.0977 - accuracy: 0.9714 - val_loss: 0.1015 - val_accuracy: 0.9649\n",
            "Epoch 20/300\n",
            "15/15 [==============================] - 0s 6ms/step - loss: 0.0987 - accuracy: 0.9714 - val_loss: 0.1018 - val_accuracy: 0.9649\n",
            "Epoch 21/300\n",
            "15/15 [==============================] - 0s 4ms/step - loss: 0.0866 - accuracy: 0.9758 - val_loss: 0.1010 - val_accuracy: 0.9649\n",
            "Epoch 22/300\n",
            "15/15 [==============================] - 0s 4ms/step - loss: 0.0674 - accuracy: 0.9780 - val_loss: 0.1011 - val_accuracy: 0.9649\n",
            "Epoch 23/300\n",
            "15/15 [==============================] - 0s 4ms/step - loss: 0.0812 - accuracy: 0.9824 - val_loss: 0.1000 - val_accuracy: 0.9649\n",
            "Epoch 24/300\n",
            "15/15 [==============================] - 0s 5ms/step - loss: 0.0781 - accuracy: 0.9824 - val_loss: 0.1002 - val_accuracy: 0.9649\n",
            "Epoch 25/300\n",
            "15/15 [==============================] - 0s 4ms/step - loss: 0.0848 - accuracy: 0.9692 - val_loss: 0.0995 - val_accuracy: 0.9649\n",
            "Epoch 26/300\n",
            "15/15 [==============================] - 0s 5ms/step - loss: 0.0776 - accuracy: 0.9780 - val_loss: 0.0992 - val_accuracy: 0.9649\n",
            "Epoch 27/300\n",
            "15/15 [==============================] - 0s 4ms/step - loss: 0.0573 - accuracy: 0.9934 - val_loss: 0.0988 - val_accuracy: 0.9649\n",
            "Epoch 28/300\n",
            "15/15 [==============================] - 0s 6ms/step - loss: 0.0671 - accuracy: 0.9846 - val_loss: 0.0978 - val_accuracy: 0.9649\n",
            "Epoch 29/300\n",
            "15/15 [==============================] - 0s 6ms/step - loss: 0.0683 - accuracy: 0.9824 - val_loss: 0.0973 - val_accuracy: 0.9649\n",
            "Epoch 30/300\n",
            "15/15 [==============================] - 0s 5ms/step - loss: 0.0722 - accuracy: 0.9824 - val_loss: 0.0978 - val_accuracy: 0.9649\n",
            "Epoch 31/300\n",
            "15/15 [==============================] - 0s 4ms/step - loss: 0.0711 - accuracy: 0.9824 - val_loss: 0.0994 - val_accuracy: 0.9649\n",
            "Epoch 32/300\n",
            "15/15 [==============================] - 0s 6ms/step - loss: 0.0543 - accuracy: 0.9890 - val_loss: 0.1000 - val_accuracy: 0.9561\n",
            "Epoch 33/300\n",
            "15/15 [==============================] - 0s 4ms/step - loss: 0.0581 - accuracy: 0.9824 - val_loss: 0.0995 - val_accuracy: 0.9561\n",
            "Epoch 34/300\n",
            "15/15 [==============================] - 0s 4ms/step - loss: 0.0432 - accuracy: 0.9912 - val_loss: 0.1000 - val_accuracy: 0.9561\n",
            "Epoch 35/300\n",
            "15/15 [==============================] - 0s 5ms/step - loss: 0.0625 - accuracy: 0.9824 - val_loss: 0.1001 - val_accuracy: 0.9561\n",
            "Epoch 36/300\n",
            "15/15 [==============================] - 0s 6ms/step - loss: 0.0535 - accuracy: 0.9846 - val_loss: 0.1001 - val_accuracy: 0.9561\n",
            "Epoch 37/300\n",
            "15/15 [==============================] - 0s 4ms/step - loss: 0.0534 - accuracy: 0.9846 - val_loss: 0.0976 - val_accuracy: 0.9649\n",
            "Epoch 38/300\n",
            "15/15 [==============================] - 0s 5ms/step - loss: 0.0468 - accuracy: 0.9890 - val_loss: 0.0986 - val_accuracy: 0.9649\n",
            "Epoch 39/300\n",
            "15/15 [==============================] - 0s 5ms/step - loss: 0.0559 - accuracy: 0.9890 - val_loss: 0.0999 - val_accuracy: 0.9561\n",
            "Epoch 40/300\n",
            "15/15 [==============================] - 0s 5ms/step - loss: 0.0442 - accuracy: 0.9846 - val_loss: 0.0982 - val_accuracy: 0.9649\n",
            "Epoch 41/300\n",
            "15/15 [==============================] - 0s 4ms/step - loss: 0.0493 - accuracy: 0.9868 - val_loss: 0.0977 - val_accuracy: 0.9649\n",
            "Epoch 42/300\n",
            "15/15 [==============================] - 0s 4ms/step - loss: 0.0540 - accuracy: 0.9824 - val_loss: 0.0981 - val_accuracy: 0.9649\n",
            "Epoch 43/300\n",
            "15/15 [==============================] - 0s 5ms/step - loss: 0.0445 - accuracy: 0.9868 - val_loss: 0.0988 - val_accuracy: 0.9649\n",
            "Epoch 44/300\n",
            "15/15 [==============================] - 0s 4ms/step - loss: 0.0376 - accuracy: 0.9912 - val_loss: 0.0994 - val_accuracy: 0.9649\n",
            "Epoch 45/300\n",
            "15/15 [==============================] - 0s 6ms/step - loss: 0.0457 - accuracy: 0.9846 - val_loss: 0.0965 - val_accuracy: 0.9649\n",
            "Epoch 46/300\n",
            "15/15 [==============================] - 0s 4ms/step - loss: 0.0490 - accuracy: 0.9780 - val_loss: 0.0958 - val_accuracy: 0.9649\n",
            "Epoch 47/300\n",
            "15/15 [==============================] - 0s 4ms/step - loss: 0.0362 - accuracy: 0.9934 - val_loss: 0.0978 - val_accuracy: 0.9649\n",
            "Epoch 48/300\n",
            "15/15 [==============================] - 0s 5ms/step - loss: 0.0366 - accuracy: 0.9846 - val_loss: 0.1000 - val_accuracy: 0.9649\n",
            "Epoch 49/300\n",
            "15/15 [==============================] - 0s 5ms/step - loss: 0.0397 - accuracy: 0.9934 - val_loss: 0.1004 - val_accuracy: 0.9649\n",
            "Epoch 50/300\n",
            "15/15 [==============================] - 0s 5ms/step - loss: 0.0518 - accuracy: 0.9802 - val_loss: 0.0992 - val_accuracy: 0.9561\n",
            "Epoch 51/300\n",
            "15/15 [==============================] - 0s 4ms/step - loss: 0.0348 - accuracy: 0.9912 - val_loss: 0.0984 - val_accuracy: 0.9561\n",
            "Epoch 52/300\n",
            "15/15 [==============================] - 0s 4ms/step - loss: 0.0485 - accuracy: 0.9890 - val_loss: 0.0980 - val_accuracy: 0.9561\n",
            "Epoch 53/300\n",
            "15/15 [==============================] - 0s 4ms/step - loss: 0.0331 - accuracy: 0.9912 - val_loss: 0.0976 - val_accuracy: 0.9561\n",
            "Epoch 54/300\n",
            "15/15 [==============================] - 0s 5ms/step - loss: 0.0397 - accuracy: 0.9912 - val_loss: 0.0970 - val_accuracy: 0.9561\n",
            "Epoch 55/300\n",
            "15/15 [==============================] - 0s 5ms/step - loss: 0.0333 - accuracy: 0.9912 - val_loss: 0.0971 - val_accuracy: 0.9561\n",
            "Epoch 56/300\n",
            "15/15 [==============================] - 0s 5ms/step - loss: 0.0393 - accuracy: 0.9890 - val_loss: 0.0974 - val_accuracy: 0.9561\n",
            "Epoch 57/300\n",
            "15/15 [==============================] - 0s 5ms/step - loss: 0.0328 - accuracy: 0.9890 - val_loss: 0.0978 - val_accuracy: 0.9561\n",
            "Epoch 58/300\n",
            "15/15 [==============================] - 0s 5ms/step - loss: 0.0335 - accuracy: 0.9890 - val_loss: 0.0969 - val_accuracy: 0.9649\n",
            "Epoch 59/300\n",
            "15/15 [==============================] - 0s 5ms/step - loss: 0.0455 - accuracy: 0.9824 - val_loss: 0.0992 - val_accuracy: 0.9649\n",
            "Epoch 60/300\n",
            "15/15 [==============================] - 0s 4ms/step - loss: 0.0296 - accuracy: 0.9868 - val_loss: 0.1016 - val_accuracy: 0.9649\n",
            "Epoch 61/300\n",
            "15/15 [==============================] - 0s 4ms/step - loss: 0.0264 - accuracy: 0.9934 - val_loss: 0.1030 - val_accuracy: 0.9649\n",
            "Epoch 62/300\n",
            "15/15 [==============================] - 0s 4ms/step - loss: 0.0305 - accuracy: 0.9890 - val_loss: 0.0982 - val_accuracy: 0.9649\n",
            "Epoch 63/300\n",
            "15/15 [==============================] - 0s 4ms/step - loss: 0.0309 - accuracy: 0.9912 - val_loss: 0.0985 - val_accuracy: 0.9649\n",
            "Epoch 64/300\n",
            "15/15 [==============================] - 0s 5ms/step - loss: 0.0227 - accuracy: 0.9934 - val_loss: 0.0989 - val_accuracy: 0.9649\n",
            "Epoch 65/300\n",
            "15/15 [==============================] - 0s 5ms/step - loss: 0.0250 - accuracy: 0.9956 - val_loss: 0.0998 - val_accuracy: 0.9649\n",
            "Epoch 66/300\n",
            "15/15 [==============================] - 0s 4ms/step - loss: 0.0307 - accuracy: 0.9868 - val_loss: 0.0988 - val_accuracy: 0.9649\n",
            "Epoch 67/300\n",
            "15/15 [==============================] - 0s 5ms/step - loss: 0.0395 - accuracy: 0.9890 - val_loss: 0.1020 - val_accuracy: 0.9649\n",
            "Epoch 68/300\n",
            "15/15 [==============================] - 0s 5ms/step - loss: 0.0253 - accuracy: 0.9956 - val_loss: 0.1119 - val_accuracy: 0.9649\n",
            "Epoch 69/300\n",
            "15/15 [==============================] - 0s 4ms/step - loss: 0.0211 - accuracy: 0.9956 - val_loss: 0.1103 - val_accuracy: 0.9649\n",
            "Epoch 70/300\n",
            "15/15 [==============================] - 0s 5ms/step - loss: 0.0255 - accuracy: 0.9890 - val_loss: 0.1099 - val_accuracy: 0.9649\n",
            "Epoch 71/300\n",
            "15/15 [==============================] - 0s 5ms/step - loss: 0.0267 - accuracy: 0.9934 - val_loss: 0.1067 - val_accuracy: 0.9649\n",
            "Epoch 72/300\n",
            "15/15 [==============================] - 0s 5ms/step - loss: 0.0203 - accuracy: 0.9912 - val_loss: 0.1060 - val_accuracy: 0.9649\n",
            "Epoch 73/300\n",
            "15/15 [==============================] - 0s 4ms/step - loss: 0.0258 - accuracy: 0.9912 - val_loss: 0.1093 - val_accuracy: 0.9649\n",
            "Epoch 74/300\n",
            "15/15 [==============================] - 0s 4ms/step - loss: 0.0230 - accuracy: 0.9956 - val_loss: 0.1130 - val_accuracy: 0.9649\n",
            "Epoch 75/300\n",
            "15/15 [==============================] - 0s 4ms/step - loss: 0.0162 - accuracy: 0.9956 - val_loss: 0.1143 - val_accuracy: 0.9649\n",
            "Epoch 76/300\n",
            "15/15 [==============================] - 0s 5ms/step - loss: 0.0204 - accuracy: 0.9934 - val_loss: 0.1153 - val_accuracy: 0.9649\n",
            "Epoch 77/300\n",
            "15/15 [==============================] - 0s 5ms/step - loss: 0.0215 - accuracy: 0.9912 - val_loss: 0.1173 - val_accuracy: 0.9649\n",
            "Epoch 78/300\n",
            "15/15 [==============================] - 0s 5ms/step - loss: 0.0207 - accuracy: 0.9934 - val_loss: 0.1181 - val_accuracy: 0.9649\n",
            "Epoch 79/300\n",
            "15/15 [==============================] - 0s 4ms/step - loss: 0.0166 - accuracy: 0.9978 - val_loss: 0.1201 - val_accuracy: 0.9649\n",
            "Epoch 80/300\n",
            "15/15 [==============================] - 0s 5ms/step - loss: 0.0234 - accuracy: 0.9934 - val_loss: 0.1188 - val_accuracy: 0.9649\n",
            "Epoch 81/300\n",
            "15/15 [==============================] - 0s 5ms/step - loss: 0.0168 - accuracy: 0.9978 - val_loss: 0.1177 - val_accuracy: 0.9649\n",
            "Epoch 82/300\n",
            "15/15 [==============================] - 0s 5ms/step - loss: 0.0243 - accuracy: 0.9934 - val_loss: 0.1172 - val_accuracy: 0.9649\n",
            "Epoch 83/300\n",
            "15/15 [==============================] - 0s 4ms/step - loss: 0.0216 - accuracy: 0.9956 - val_loss: 0.1168 - val_accuracy: 0.9649\n",
            "Epoch 84/300\n",
            "15/15 [==============================] - 0s 5ms/step - loss: 0.0170 - accuracy: 0.9956 - val_loss: 0.1135 - val_accuracy: 0.9649\n",
            "Epoch 85/300\n",
            "15/15 [==============================] - 0s 5ms/step - loss: 0.0204 - accuracy: 0.9912 - val_loss: 0.1147 - val_accuracy: 0.9649\n",
            "Epoch 86/300\n",
            "15/15 [==============================] - 0s 5ms/step - loss: 0.0215 - accuracy: 0.9912 - val_loss: 0.1219 - val_accuracy: 0.9649\n",
            "Epoch 87/300\n",
            "15/15 [==============================] - 0s 4ms/step - loss: 0.0150 - accuracy: 0.9978 - val_loss: 0.1239 - val_accuracy: 0.9649\n",
            "Epoch 88/300\n",
            "15/15 [==============================] - 0s 5ms/step - loss: 0.0246 - accuracy: 0.9912 - val_loss: 0.1232 - val_accuracy: 0.9649\n",
            "Epoch 89/300\n",
            "15/15 [==============================] - 0s 4ms/step - loss: 0.0130 - accuracy: 1.0000 - val_loss: 0.1258 - val_accuracy: 0.9561\n",
            "Epoch 90/300\n",
            "15/15 [==============================] - 0s 5ms/step - loss: 0.0227 - accuracy: 0.9912 - val_loss: 0.1347 - val_accuracy: 0.9474\n",
            "Epoch 91/300\n",
            "15/15 [==============================] - 0s 4ms/step - loss: 0.0128 - accuracy: 0.9934 - val_loss: 0.1373 - val_accuracy: 0.9474\n",
            "Epoch 92/300\n",
            "15/15 [==============================] - 0s 5ms/step - loss: 0.0210 - accuracy: 0.9934 - val_loss: 0.1372 - val_accuracy: 0.9474\n",
            "Epoch 93/300\n",
            "15/15 [==============================] - 0s 4ms/step - loss: 0.0148 - accuracy: 0.9978 - val_loss: 0.1371 - val_accuracy: 0.9474\n",
            "Epoch 94/300\n",
            "15/15 [==============================] - 0s 4ms/step - loss: 0.0187 - accuracy: 0.9934 - val_loss: 0.1366 - val_accuracy: 0.9474\n",
            "Epoch 95/300\n",
            "15/15 [==============================] - 0s 5ms/step - loss: 0.0132 - accuracy: 0.9956 - val_loss: 0.1393 - val_accuracy: 0.9386\n",
            "Epoch 96/300\n",
            "15/15 [==============================] - 0s 4ms/step - loss: 0.0135 - accuracy: 0.9956 - val_loss: 0.1346 - val_accuracy: 0.9474\n",
            "Epoch 97/300\n",
            "15/15 [==============================] - 0s 4ms/step - loss: 0.0205 - accuracy: 0.9912 - val_loss: 0.1225 - val_accuracy: 0.9561\n",
            "Epoch 98/300\n",
            "15/15 [==============================] - 0s 5ms/step - loss: 0.0135 - accuracy: 0.9978 - val_loss: 0.1164 - val_accuracy: 0.9649\n",
            "Epoch 99/300\n",
            "15/15 [==============================] - 0s 5ms/step - loss: 0.0139 - accuracy: 0.9956 - val_loss: 0.1159 - val_accuracy: 0.9649\n",
            "Epoch 100/300\n",
            "15/15 [==============================] - 0s 5ms/step - loss: 0.0130 - accuracy: 0.9956 - val_loss: 0.1135 - val_accuracy: 0.9649\n",
            "Epoch 101/300\n",
            "15/15 [==============================] - 0s 5ms/step - loss: 0.0139 - accuracy: 0.9956 - val_loss: 0.1161 - val_accuracy: 0.9561\n",
            "Epoch 102/300\n",
            "15/15 [==============================] - 0s 6ms/step - loss: 0.0118 - accuracy: 0.9978 - val_loss: 0.1180 - val_accuracy: 0.9474\n",
            "Epoch 103/300\n",
            "15/15 [==============================] - 0s 4ms/step - loss: 0.0162 - accuracy: 0.9978 - val_loss: 0.1167 - val_accuracy: 0.9649\n",
            "Epoch 104/300\n",
            "15/15 [==============================] - 0s 4ms/step - loss: 0.0208 - accuracy: 0.9956 - val_loss: 0.1201 - val_accuracy: 0.9561\n",
            "Epoch 105/300\n",
            "15/15 [==============================] - 0s 5ms/step - loss: 0.0110 - accuracy: 0.9978 - val_loss: 0.1222 - val_accuracy: 0.9561\n",
            "Epoch 106/300\n",
            "15/15 [==============================] - 0s 5ms/step - loss: 0.0121 - accuracy: 0.9956 - val_loss: 0.1240 - val_accuracy: 0.9561\n",
            "Epoch 107/300\n",
            "15/15 [==============================] - 0s 6ms/step - loss: 0.0107 - accuracy: 0.9956 - val_loss: 0.1253 - val_accuracy: 0.9561\n",
            "Epoch 108/300\n",
            "15/15 [==============================] - 0s 5ms/step - loss: 0.0098 - accuracy: 0.9978 - val_loss: 0.1207 - val_accuracy: 0.9561\n",
            "Epoch 109/300\n",
            "15/15 [==============================] - 0s 5ms/step - loss: 0.0085 - accuracy: 1.0000 - val_loss: 0.1238 - val_accuracy: 0.9561\n",
            "Epoch 110/300\n",
            "15/15 [==============================] - 0s 5ms/step - loss: 0.0078 - accuracy: 0.9956 - val_loss: 0.1236 - val_accuracy: 0.9561\n",
            "Epoch 111/300\n",
            "15/15 [==============================] - 0s 6ms/step - loss: 0.0084 - accuracy: 0.9978 - val_loss: 0.1243 - val_accuracy: 0.9474\n",
            "Epoch 112/300\n",
            "15/15 [==============================] - 0s 5ms/step - loss: 0.0089 - accuracy: 0.9978 - val_loss: 0.1258 - val_accuracy: 0.9474\n",
            "Epoch 113/300\n",
            "15/15 [==============================] - 0s 4ms/step - loss: 0.0050 - accuracy: 1.0000 - val_loss: 0.1237 - val_accuracy: 0.9649\n",
            "Epoch 114/300\n",
            "15/15 [==============================] - 0s 6ms/step - loss: 0.0127 - accuracy: 0.9934 - val_loss: 0.1240 - val_accuracy: 0.9649\n",
            "Epoch 115/300\n",
            "15/15 [==============================] - 0s 5ms/step - loss: 0.0106 - accuracy: 0.9956 - val_loss: 0.1277 - val_accuracy: 0.9474\n",
            "Epoch 116/300\n",
            "15/15 [==============================] - 0s 4ms/step - loss: 0.0095 - accuracy: 1.0000 - val_loss: 0.1286 - val_accuracy: 0.9474\n",
            "Epoch 117/300\n",
            "15/15 [==============================] - 0s 5ms/step - loss: 0.0077 - accuracy: 0.9978 - val_loss: 0.1323 - val_accuracy: 0.9474\n",
            "Epoch 118/300\n",
            "15/15 [==============================] - 0s 4ms/step - loss: 0.0084 - accuracy: 0.9978 - val_loss: 0.1308 - val_accuracy: 0.9474\n",
            "Epoch 119/300\n",
            "15/15 [==============================] - 0s 4ms/step - loss: 0.0066 - accuracy: 1.0000 - val_loss: 0.1317 - val_accuracy: 0.9474\n",
            "Epoch 120/300\n",
            "15/15 [==============================] - 0s 5ms/step - loss: 0.0056 - accuracy: 1.0000 - val_loss: 0.1331 - val_accuracy: 0.9474\n",
            "Epoch 121/300\n",
            "15/15 [==============================] - 0s 4ms/step - loss: 0.0080 - accuracy: 0.9978 - val_loss: 0.1340 - val_accuracy: 0.9474\n",
            "Epoch 122/300\n",
            "15/15 [==============================] - 0s 5ms/step - loss: 0.0065 - accuracy: 1.0000 - val_loss: 0.1334 - val_accuracy: 0.9474\n",
            "Epoch 123/300\n",
            "15/15 [==============================] - 0s 6ms/step - loss: 0.0071 - accuracy: 1.0000 - val_loss: 0.1331 - val_accuracy: 0.9474\n",
            "Epoch 124/300\n",
            "15/15 [==============================] - 0s 5ms/step - loss: 0.0075 - accuracy: 0.9978 - val_loss: 0.1362 - val_accuracy: 0.9561\n",
            "Epoch 125/300\n",
            "15/15 [==============================] - 0s 4ms/step - loss: 0.0119 - accuracy: 0.9956 - val_loss: 0.1378 - val_accuracy: 0.9474\n",
            "Epoch 126/300\n",
            "15/15 [==============================] - 0s 4ms/step - loss: 0.0080 - accuracy: 0.9978 - val_loss: 0.1380 - val_accuracy: 0.9474\n",
            "Epoch 127/300\n",
            "15/15 [==============================] - 0s 5ms/step - loss: 0.0042 - accuracy: 1.0000 - val_loss: 0.1387 - val_accuracy: 0.9474\n",
            "Epoch 128/300\n",
            "15/15 [==============================] - 0s 4ms/step - loss: 0.0074 - accuracy: 1.0000 - val_loss: 0.1382 - val_accuracy: 0.9474\n",
            "Epoch 129/300\n",
            "15/15 [==============================] - 0s 4ms/step - loss: 0.0075 - accuracy: 1.0000 - val_loss: 0.1379 - val_accuracy: 0.9474\n",
            "Epoch 130/300\n",
            "15/15 [==============================] - 0s 6ms/step - loss: 0.0073 - accuracy: 0.9978 - val_loss: 0.1315 - val_accuracy: 0.9649\n",
            "Epoch 131/300\n",
            "15/15 [==============================] - 0s 4ms/step - loss: 0.0053 - accuracy: 1.0000 - val_loss: 0.1298 - val_accuracy: 0.9649\n",
            "Epoch 132/300\n",
            "15/15 [==============================] - 0s 5ms/step - loss: 0.0073 - accuracy: 1.0000 - val_loss: 0.1325 - val_accuracy: 0.9474\n",
            "Epoch 133/300\n",
            "15/15 [==============================] - 0s 5ms/step - loss: 0.0061 - accuracy: 0.9978 - val_loss: 0.1382 - val_accuracy: 0.9474\n",
            "Epoch 134/300\n",
            "15/15 [==============================] - 0s 4ms/step - loss: 0.0134 - accuracy: 0.9934 - val_loss: 0.1447 - val_accuracy: 0.9561\n",
            "Epoch 135/300\n",
            "15/15 [==============================] - 0s 5ms/step - loss: 0.0067 - accuracy: 1.0000 - val_loss: 0.1480 - val_accuracy: 0.9561\n",
            "Epoch 136/300\n",
            "15/15 [==============================] - 0s 8ms/step - loss: 0.0055 - accuracy: 1.0000 - val_loss: 0.1497 - val_accuracy: 0.9561\n",
            "Epoch 137/300\n",
            "15/15 [==============================] - 0s 6ms/step - loss: 0.0063 - accuracy: 1.0000 - val_loss: 0.1513 - val_accuracy: 0.9561\n",
            "Epoch 138/300\n",
            "15/15 [==============================] - 0s 6ms/step - loss: 0.0072 - accuracy: 1.0000 - val_loss: 0.1417 - val_accuracy: 0.9561\n",
            "Epoch 139/300\n",
            "15/15 [==============================] - 0s 6ms/step - loss: 0.0084 - accuracy: 0.9978 - val_loss: 0.1436 - val_accuracy: 0.9561\n",
            "Epoch 140/300\n",
            "15/15 [==============================] - 0s 6ms/step - loss: 0.0055 - accuracy: 1.0000 - val_loss: 0.1467 - val_accuracy: 0.9561\n",
            "Epoch 141/300\n",
            "15/15 [==============================] - 0s 6ms/step - loss: 0.0080 - accuracy: 0.9956 - val_loss: 0.1467 - val_accuracy: 0.9474\n",
            "Epoch 142/300\n",
            "15/15 [==============================] - 0s 6ms/step - loss: 0.0058 - accuracy: 1.0000 - val_loss: 0.1448 - val_accuracy: 0.9474\n",
            "Epoch 143/300\n",
            "15/15 [==============================] - 0s 7ms/step - loss: 0.0066 - accuracy: 1.0000 - val_loss: 0.1488 - val_accuracy: 0.9474\n",
            "Epoch 144/300\n",
            "15/15 [==============================] - 0s 6ms/step - loss: 0.0098 - accuracy: 0.9956 - val_loss: 0.1529 - val_accuracy: 0.9474\n",
            "Epoch 145/300\n",
            "15/15 [==============================] - 0s 7ms/step - loss: 0.0035 - accuracy: 1.0000 - val_loss: 0.1486 - val_accuracy: 0.9474\n",
            "Epoch 146/300\n",
            "15/15 [==============================] - 0s 7ms/step - loss: 0.0027 - accuracy: 1.0000 - val_loss: 0.1498 - val_accuracy: 0.9474\n"
          ]
        }
      ]
    },
    {
      "cell_type": "code",
      "source": [
        "model_3.evaluate(X_test, y_test_encoded)"
      ],
      "metadata": {
        "colab": {
          "base_uri": "https://localhost:8080/"
        },
        "id": "c5GhZ0c1LOJo",
        "outputId": "adaabf9b-b6fc-4b94-9372-013f053202b4"
      },
      "execution_count": null,
      "outputs": [
        {
          "output_type": "stream",
          "name": "stdout",
          "text": [
            "4/4 [==============================] - 0s 3ms/step - loss: 0.0958 - accuracy: 0.9649\n"
          ]
        },
        {
          "output_type": "execute_result",
          "data": {
            "text/plain": [
              "[0.09580612927675247, 0.9649122953414917]"
            ]
          },
          "metadata": {},
          "execution_count": 181
        }
      ]
    },
    {
      "cell_type": "code",
      "source": [
        "plot_loss_acc(history_3)"
      ],
      "metadata": {
        "colab": {
          "base_uri": "https://localhost:8080/",
          "height": 843
        },
        "id": "4Jfe9PE9NLyy",
        "outputId": "0d89d83d-781a-4711-e0d8-bf6051595d50"
      },
      "execution_count": null,
      "outputs": [
        {
          "output_type": "display_data",
          "data": {
            "text/plain": [
              "<Figure size 640x480 with 1 Axes>"
            ],
            "image/png": "[encoded data removed]"
          },
          "metadata": {}
        },
        {
          "output_type": "display_data",
          "data": {
            "text/plain": [
              "<Figure size 640x480 with 1 Axes>"
            ],
            "image/png": "[encoded data removed]"
          },
          "metadata": {}
        }
      ]
    },
    {
      "cell_type": "markdown",
      "source": [
        "## Test our Models\n",
        "\n"
      ],
      "metadata": {
        "id": "N8D0kIBOCgbd"
      }
    },
    {
      "cell_type": "code",
      "source": [
        "def make_pred(model, features, labels, class_names, feature_type='numpy'):\n",
        "\n",
        "  if feature_type == 'pandas':\n",
        "    features = features.to_numpy()\n",
        "\n",
        "\n",
        "  num = np.random.randint(0, len(features))\n",
        "\n",
        "  feature = features[num]\n",
        "\n",
        "  label = labels[num]\n",
        "\n",
        "  pred_probs = model.predict(tf.expand_dims(feature, axis=0))\n",
        "\n",
        "  pred_label = int(np.round(pred_probs))\n",
        "\n",
        "  print(f'True Label: {class_names[label]} - {label}\\nPred Label: {class_names[pred_label]} - {pred_label}')"
      ],
      "metadata": {
        "id": "lCtZihZGPW2I"
      },
      "execution_count": null,
      "outputs": []
    },
    {
      "cell_type": "code",
      "source": [
        "class_names"
      ],
      "metadata": {
        "colab": {
          "base_uri": "https://localhost:8080/"
        },
        "id": "ITffkzfQQc2q",
        "outputId": "4915263d-f570-4144-d219-4805c12d6736"
      },
      "execution_count": null,
      "outputs": [
        {
          "output_type": "execute_result",
          "data": {
            "text/plain": [
              "['B', 'M']"
            ]
          },
          "metadata": {},
          "execution_count": 203
        }
      ]
    },
    {
      "cell_type": "code",
      "source": [
        "make_pred(model_1, X_test_scaled, y_test_encoded, class_names)"
      ],
      "metadata": {
        "colab": {
          "base_uri": "https://localhost:8080/"
        },
        "id": "3RkcUqm-QAer",
        "outputId": "5cb8ddb1-20ee-4dc7-fc16-53c72f1e7ada"
      },
      "execution_count": null,
      "outputs": [
        {
          "output_type": "stream",
          "name": "stdout",
          "text": [
            "1/1 [==============================] - 0s 20ms/step\n",
            "True Label: M - 1\n",
            "Pred Label: M - 1\n"
          ]
        }
      ]
    },
    {
      "cell_type": "code",
      "source": [
        "class_names_full = ['Benign', 'malignant']"
      ],
      "metadata": {
        "id": "2t1aROgRQYlo"
      },
      "execution_count": null,
      "outputs": []
    },
    {
      "cell_type": "code",
      "source": [
        "make_pred(model_3, X_test, y_test_encoded, class_names_full, feature_type='pandas')"
      ],
      "metadata": {
        "colab": {
          "base_uri": "https://localhost:8080/"
        },
        "id": "EWq6Ydy1Cin8",
        "outputId": "02d4f8a2-f694-4095-d203-3cb919152268"
      },
      "execution_count": null,
      "outputs": [
        {
          "output_type": "stream",
          "name": "stdout",
          "text": [
            "1/1 [==============================] - 0s 20ms/step\n",
            "True Label: malignant - 1\n",
            "Pred Label: malignant - 1\n"
          ]
        }
      ]
    }
  ]
}